{
 "cells": [
  {
   "cell_type": "code",
   "execution_count": 1,
   "id": "8bdcd006-8160-48b5-9a71-bab8b58c9b0e",
   "metadata": {},
   "outputs": [],
   "source": [
    " import numpy as np\n",
    "\n",
    " import pandas as pd"
   ]
  },
  {
   "cell_type": "code",
   "execution_count": 2,
   "id": "55c41c76-762c-41d3-abc3-945408f3dadf",
   "metadata": {},
   "outputs": [
    {
     "name": "stdout",
     "output_type": "stream",
     "text": [
      "0    1.0\n",
      "1    3.0\n",
      "2    5.0\n",
      "3    NaN\n",
      "4    6.0\n",
      "5    8.0\n",
      "dtype: float64\n"
     ]
    }
   ],
   "source": [
    "s = pd.Series([1, 3, 5, np.nan, 6, 8])\n",
    "print(s)"
   ]
  },
  {
   "cell_type": "code",
   "execution_count": 3,
   "id": "3811d272-793c-4365-ac12-a291adc3565a",
   "metadata": {},
   "outputs": [
    {
     "name": "stdout",
     "output_type": "stream",
     "text": [
      "DatetimeIndex(['2013-01-01', '2013-01-02', '2013-01-03', '2013-01-04',\n",
      "               '2013-01-05', '2013-01-06'],\n",
      "              dtype='datetime64[ns]', freq='D')\n"
     ]
    }
   ],
   "source": [
    "dates = pd.date_range(\"20130101\", periods=6)\n",
    "\n",
    "print(dates)"
   ]
  },
  {
   "cell_type": "code",
   "execution_count": 4,
   "id": "aaf6d0e2-d5a9-4ec5-b920-31208711231f",
   "metadata": {},
   "outputs": [
    {
     "name": "stdout",
     "output_type": "stream",
     "text": [
      "                   A         B         C         D\n",
      "2013-01-01 -0.252282  0.785418  0.690153 -0.510640\n",
      "2013-01-02  0.182132  0.120818  0.215721 -1.053122\n",
      "2013-01-03  0.711736  0.740896  0.044078 -1.838124\n",
      "2013-01-04  1.131547  0.140290 -0.327818 -1.273202\n",
      "2013-01-05  2.012423  0.377411 -0.808310 -2.868135\n",
      "2013-01-06 -1.568683  0.698683  0.251194  0.307066\n"
     ]
    }
   ],
   "source": [
    "df = pd.DataFrame(np.random.randn(6, 4), index=dates, columns=list(\"ABCD\"))\n",
    "print(df)"
   ]
  },
  {
   "cell_type": "code",
   "execution_count": 5,
   "id": "4d0914ec-0537-4741-a201-95d4554b95a4",
   "metadata": {},
   "outputs": [
    {
     "name": "stdout",
     "output_type": "stream",
     "text": [
      "                   A         B         C         D\n",
      "2013-01-01 -0.252282  0.785418  0.690153 -0.510640\n",
      "2013-01-02  0.182132  0.120818  0.215721 -1.053122\n",
      "2013-01-03  0.711736  0.740896  0.044078 -1.838124\n",
      "2013-01-04  1.131547  0.140290 -0.327818 -1.273202\n",
      "2013-01-05  2.012423  0.377411 -0.808310 -2.868135\n",
      "2013-01-06 -1.568683  0.698683  0.251194  0.307066\n"
     ]
    }
   ],
   "source": [
    "df2 = pd.DataFrame(\n",
    "   ...:     {\n",
    "   ...:         \"A\": 1.0,\n",
    "   ...:         \"B\": pd.Timestamp(\"20130102\"),\n",
    "   ...:         \"C\": pd.Series(1, index=list(range(4)), dtype=\"float32\"),\n",
    "   ...:         \"D\": np.array([3] * 4, dtype=\"int32\"),\n",
    "   ...:         \"E\": pd.Categorical([\"test\", \"train\", \"test\", \"train\"]),\n",
    "   ...:         \"F\": \"foo\",\n",
    "   ...:     }\n",
    "   ...: )\n",
    "print(df)\n"
   ]
  },
  {
   "cell_type": "code",
   "execution_count": 6,
   "id": "77ff4ea3-3dd5-4b9e-a3a5-84e6b0cc9953",
   "metadata": {},
   "outputs": [
    {
     "data": {
      "text/plain": [
       "A           float64\n",
       "B    datetime64[ns]\n",
       "C           float32\n",
       "D             int32\n",
       "E          category\n",
       "F            object\n",
       "dtype: object"
      ]
     },
     "execution_count": 6,
     "metadata": {},
     "output_type": "execute_result"
    }
   ],
   "source": [
    "df2.dtypes"
   ]
  },
  {
   "cell_type": "code",
   "execution_count": 7,
   "id": "3b16dade-682f-4a81-81fb-84530ac865fb",
   "metadata": {},
   "outputs": [
    {
     "data": {
      "text/html": [
       "<div>\n",
       "<style scoped>\n",
       "    .dataframe tbody tr th:only-of-type {\n",
       "        vertical-align: middle;\n",
       "    }\n",
       "\n",
       "    .dataframe tbody tr th {\n",
       "        vertical-align: top;\n",
       "    }\n",
       "\n",
       "    .dataframe thead th {\n",
       "        text-align: right;\n",
       "    }\n",
       "</style>\n",
       "<table border=\"1\" class=\"dataframe\">\n",
       "  <thead>\n",
       "    <tr style=\"text-align: right;\">\n",
       "      <th></th>\n",
       "      <th>A</th>\n",
       "      <th>B</th>\n",
       "      <th>C</th>\n",
       "      <th>D</th>\n",
       "    </tr>\n",
       "  </thead>\n",
       "  <tbody>\n",
       "    <tr>\n",
       "      <th>2013-01-01</th>\n",
       "      <td>-0.252282</td>\n",
       "      <td>0.785418</td>\n",
       "      <td>0.690153</td>\n",
       "      <td>-0.510640</td>\n",
       "    </tr>\n",
       "    <tr>\n",
       "      <th>2013-01-02</th>\n",
       "      <td>0.182132</td>\n",
       "      <td>0.120818</td>\n",
       "      <td>0.215721</td>\n",
       "      <td>-1.053122</td>\n",
       "    </tr>\n",
       "    <tr>\n",
       "      <th>2013-01-03</th>\n",
       "      <td>0.711736</td>\n",
       "      <td>0.740896</td>\n",
       "      <td>0.044078</td>\n",
       "      <td>-1.838124</td>\n",
       "    </tr>\n",
       "    <tr>\n",
       "      <th>2013-01-04</th>\n",
       "      <td>1.131547</td>\n",
       "      <td>0.140290</td>\n",
       "      <td>-0.327818</td>\n",
       "      <td>-1.273202</td>\n",
       "    </tr>\n",
       "    <tr>\n",
       "      <th>2013-01-05</th>\n",
       "      <td>2.012423</td>\n",
       "      <td>0.377411</td>\n",
       "      <td>-0.808310</td>\n",
       "      <td>-2.868135</td>\n",
       "    </tr>\n",
       "  </tbody>\n",
       "</table>\n",
       "</div>"
      ],
      "text/plain": [
       "                   A         B         C         D\n",
       "2013-01-01 -0.252282  0.785418  0.690153 -0.510640\n",
       "2013-01-02  0.182132  0.120818  0.215721 -1.053122\n",
       "2013-01-03  0.711736  0.740896  0.044078 -1.838124\n",
       "2013-01-04  1.131547  0.140290 -0.327818 -1.273202\n",
       "2013-01-05  2.012423  0.377411 -0.808310 -2.868135"
      ]
     },
     "execution_count": 7,
     "metadata": {},
     "output_type": "execute_result"
    }
   ],
   "source": [
    "df.head()"
   ]
  },
  {
   "cell_type": "code",
   "execution_count": 8,
   "id": "c7bbf531-07b3-4c39-b036-49b842081971",
   "metadata": {},
   "outputs": [
    {
     "data": {
      "text/html": [
       "<div>\n",
       "<style scoped>\n",
       "    .dataframe tbody tr th:only-of-type {\n",
       "        vertical-align: middle;\n",
       "    }\n",
       "\n",
       "    .dataframe tbody tr th {\n",
       "        vertical-align: top;\n",
       "    }\n",
       "\n",
       "    .dataframe thead th {\n",
       "        text-align: right;\n",
       "    }\n",
       "</style>\n",
       "<table border=\"1\" class=\"dataframe\">\n",
       "  <thead>\n",
       "    <tr style=\"text-align: right;\">\n",
       "      <th></th>\n",
       "      <th>A</th>\n",
       "      <th>B</th>\n",
       "      <th>C</th>\n",
       "      <th>D</th>\n",
       "    </tr>\n",
       "  </thead>\n",
       "  <tbody>\n",
       "    <tr>\n",
       "      <th>2013-01-04</th>\n",
       "      <td>1.131547</td>\n",
       "      <td>0.140290</td>\n",
       "      <td>-0.327818</td>\n",
       "      <td>-1.273202</td>\n",
       "    </tr>\n",
       "    <tr>\n",
       "      <th>2013-01-05</th>\n",
       "      <td>2.012423</td>\n",
       "      <td>0.377411</td>\n",
       "      <td>-0.808310</td>\n",
       "      <td>-2.868135</td>\n",
       "    </tr>\n",
       "    <tr>\n",
       "      <th>2013-01-06</th>\n",
       "      <td>-1.568683</td>\n",
       "      <td>0.698683</td>\n",
       "      <td>0.251194</td>\n",
       "      <td>0.307066</td>\n",
       "    </tr>\n",
       "  </tbody>\n",
       "</table>\n",
       "</div>"
      ],
      "text/plain": [
       "                   A         B         C         D\n",
       "2013-01-04  1.131547  0.140290 -0.327818 -1.273202\n",
       "2013-01-05  2.012423  0.377411 -0.808310 -2.868135\n",
       "2013-01-06 -1.568683  0.698683  0.251194  0.307066"
      ]
     },
     "execution_count": 8,
     "metadata": {},
     "output_type": "execute_result"
    }
   ],
   "source": [
    "df.tail(3)"
   ]
  },
  {
   "cell_type": "code",
   "execution_count": 9,
   "id": "12a1af0a-6421-4e0e-86d4-1348d01b49f0",
   "metadata": {},
   "outputs": [
    {
     "data": {
      "text/plain": [
       "DatetimeIndex(['2013-01-01', '2013-01-02', '2013-01-03', '2013-01-04',\n",
       "               '2013-01-05', '2013-01-06'],\n",
       "              dtype='datetime64[ns]', freq='D')"
      ]
     },
     "execution_count": 9,
     "metadata": {},
     "output_type": "execute_result"
    }
   ],
   "source": [
    "df.index"
   ]
  },
  {
   "cell_type": "code",
   "execution_count": 10,
   "id": "0ff146fa-2827-4132-b43a-4778a4057583",
   "metadata": {},
   "outputs": [
    {
     "data": {
      "text/plain": [
       "array([[-0.25228222,  0.78541788,  0.69015301, -0.51063991],\n",
       "       [ 0.18213207,  0.12081775,  0.21572115, -1.05312197],\n",
       "       [ 0.71173571,  0.74089582,  0.04407809, -1.83812423],\n",
       "       [ 1.13154722,  0.14029043, -0.32781819, -1.27320192],\n",
       "       [ 2.01242347,  0.37741062, -0.80830984, -2.86813539],\n",
       "       [-1.56868346,  0.69868251,  0.25119441,  0.30706601]])"
      ]
     },
     "execution_count": 10,
     "metadata": {},
     "output_type": "execute_result"
    }
   ],
   "source": [
    "df.to_numpy()"
   ]
  },
  {
   "cell_type": "code",
   "execution_count": 11,
   "id": "8f5d8122-c6bb-40c8-b47f-2704500d8e96",
   "metadata": {},
   "outputs": [
    {
     "data": {
      "text/plain": [
       "array([[1.0, Timestamp('2013-01-02 00:00:00'), 1.0, 3, 'test', 'foo'],\n",
       "       [1.0, Timestamp('2013-01-02 00:00:00'), 1.0, 3, 'train', 'foo'],\n",
       "       [1.0, Timestamp('2013-01-02 00:00:00'), 1.0, 3, 'test', 'foo'],\n",
       "       [1.0, Timestamp('2013-01-02 00:00:00'), 1.0, 3, 'train', 'foo']],\n",
       "      dtype=object)"
      ]
     },
     "execution_count": 11,
     "metadata": {},
     "output_type": "execute_result"
    }
   ],
   "source": [
    "df2.to_numpy()"
   ]
  },
  {
   "cell_type": "code",
   "execution_count": 12,
   "id": "0db8ced4-1cf0-4a0e-91df-eaa3474f48df",
   "metadata": {},
   "outputs": [
    {
     "data": {
      "text/html": [
       "<div>\n",
       "<style scoped>\n",
       "    .dataframe tbody tr th:only-of-type {\n",
       "        vertical-align: middle;\n",
       "    }\n",
       "\n",
       "    .dataframe tbody tr th {\n",
       "        vertical-align: top;\n",
       "    }\n",
       "\n",
       "    .dataframe thead th {\n",
       "        text-align: right;\n",
       "    }\n",
       "</style>\n",
       "<table border=\"1\" class=\"dataframe\">\n",
       "  <thead>\n",
       "    <tr style=\"text-align: right;\">\n",
       "      <th></th>\n",
       "      <th>A</th>\n",
       "      <th>B</th>\n",
       "      <th>C</th>\n",
       "      <th>D</th>\n",
       "    </tr>\n",
       "  </thead>\n",
       "  <tbody>\n",
       "    <tr>\n",
       "      <th>count</th>\n",
       "      <td>6.000000</td>\n",
       "      <td>6.000000</td>\n",
       "      <td>6.000000</td>\n",
       "      <td>6.000000</td>\n",
       "    </tr>\n",
       "    <tr>\n",
       "      <th>mean</th>\n",
       "      <td>0.369479</td>\n",
       "      <td>0.477253</td>\n",
       "      <td>0.010836</td>\n",
       "      <td>-1.206026</td>\n",
       "    </tr>\n",
       "    <tr>\n",
       "      <th>std</th>\n",
       "      <td>1.230879</td>\n",
       "      <td>0.304651</td>\n",
       "      <td>0.519233</td>\n",
       "      <td>1.092068</td>\n",
       "    </tr>\n",
       "    <tr>\n",
       "      <th>min</th>\n",
       "      <td>-1.568683</td>\n",
       "      <td>0.120818</td>\n",
       "      <td>-0.808310</td>\n",
       "      <td>-2.868135</td>\n",
       "    </tr>\n",
       "    <tr>\n",
       "      <th>25%</th>\n",
       "      <td>-0.143679</td>\n",
       "      <td>0.199570</td>\n",
       "      <td>-0.234844</td>\n",
       "      <td>-1.696894</td>\n",
       "    </tr>\n",
       "    <tr>\n",
       "      <th>50%</th>\n",
       "      <td>0.446934</td>\n",
       "      <td>0.538047</td>\n",
       "      <td>0.129900</td>\n",
       "      <td>-1.163162</td>\n",
       "    </tr>\n",
       "    <tr>\n",
       "      <th>75%</th>\n",
       "      <td>1.026594</td>\n",
       "      <td>0.730342</td>\n",
       "      <td>0.242326</td>\n",
       "      <td>-0.646260</td>\n",
       "    </tr>\n",
       "    <tr>\n",
       "      <th>max</th>\n",
       "      <td>2.012423</td>\n",
       "      <td>0.785418</td>\n",
       "      <td>0.690153</td>\n",
       "      <td>0.307066</td>\n",
       "    </tr>\n",
       "  </tbody>\n",
       "</table>\n",
       "</div>"
      ],
      "text/plain": [
       "              A         B         C         D\n",
       "count  6.000000  6.000000  6.000000  6.000000\n",
       "mean   0.369479  0.477253  0.010836 -1.206026\n",
       "std    1.230879  0.304651  0.519233  1.092068\n",
       "min   -1.568683  0.120818 -0.808310 -2.868135\n",
       "25%   -0.143679  0.199570 -0.234844 -1.696894\n",
       "50%    0.446934  0.538047  0.129900 -1.163162\n",
       "75%    1.026594  0.730342  0.242326 -0.646260\n",
       "max    2.012423  0.785418  0.690153  0.307066"
      ]
     },
     "execution_count": 12,
     "metadata": {},
     "output_type": "execute_result"
    }
   ],
   "source": [
    "df.describe()"
   ]
  },
  {
   "cell_type": "code",
   "execution_count": 13,
   "id": "96a45ab6-fd9f-4696-ab5d-da9fff435824",
   "metadata": {},
   "outputs": [
    {
     "data": {
      "text/html": [
       "<div>\n",
       "<style scoped>\n",
       "    .dataframe tbody tr th:only-of-type {\n",
       "        vertical-align: middle;\n",
       "    }\n",
       "\n",
       "    .dataframe tbody tr th {\n",
       "        vertical-align: top;\n",
       "    }\n",
       "\n",
       "    .dataframe thead th {\n",
       "        text-align: right;\n",
       "    }\n",
       "</style>\n",
       "<table border=\"1\" class=\"dataframe\">\n",
       "  <thead>\n",
       "    <tr style=\"text-align: right;\">\n",
       "      <th></th>\n",
       "      <th>2013-01-01</th>\n",
       "      <th>2013-01-02</th>\n",
       "      <th>2013-01-03</th>\n",
       "      <th>2013-01-04</th>\n",
       "      <th>2013-01-05</th>\n",
       "      <th>2013-01-06</th>\n",
       "    </tr>\n",
       "  </thead>\n",
       "  <tbody>\n",
       "    <tr>\n",
       "      <th>A</th>\n",
       "      <td>-0.252282</td>\n",
       "      <td>0.182132</td>\n",
       "      <td>0.711736</td>\n",
       "      <td>1.131547</td>\n",
       "      <td>2.012423</td>\n",
       "      <td>-1.568683</td>\n",
       "    </tr>\n",
       "    <tr>\n",
       "      <th>B</th>\n",
       "      <td>0.785418</td>\n",
       "      <td>0.120818</td>\n",
       "      <td>0.740896</td>\n",
       "      <td>0.140290</td>\n",
       "      <td>0.377411</td>\n",
       "      <td>0.698683</td>\n",
       "    </tr>\n",
       "    <tr>\n",
       "      <th>C</th>\n",
       "      <td>0.690153</td>\n",
       "      <td>0.215721</td>\n",
       "      <td>0.044078</td>\n",
       "      <td>-0.327818</td>\n",
       "      <td>-0.808310</td>\n",
       "      <td>0.251194</td>\n",
       "    </tr>\n",
       "    <tr>\n",
       "      <th>D</th>\n",
       "      <td>-0.510640</td>\n",
       "      <td>-1.053122</td>\n",
       "      <td>-1.838124</td>\n",
       "      <td>-1.273202</td>\n",
       "      <td>-2.868135</td>\n",
       "      <td>0.307066</td>\n",
       "    </tr>\n",
       "  </tbody>\n",
       "</table>\n",
       "</div>"
      ],
      "text/plain": [
       "   2013-01-01  2013-01-02  2013-01-03  2013-01-04  2013-01-05  2013-01-06\n",
       "A   -0.252282    0.182132    0.711736    1.131547    2.012423   -1.568683\n",
       "B    0.785418    0.120818    0.740896    0.140290    0.377411    0.698683\n",
       "C    0.690153    0.215721    0.044078   -0.327818   -0.808310    0.251194\n",
       "D   -0.510640   -1.053122   -1.838124   -1.273202   -2.868135    0.307066"
      ]
     },
     "execution_count": 13,
     "metadata": {},
     "output_type": "execute_result"
    }
   ],
   "source": [
    "df.T"
   ]
  },
  {
   "cell_type": "code",
   "execution_count": 14,
   "id": "378d24a8-e497-4d6f-b157-34445a324180",
   "metadata": {},
   "outputs": [
    {
     "data": {
      "text/html": [
       "<div>\n",
       "<style scoped>\n",
       "    .dataframe tbody tr th:only-of-type {\n",
       "        vertical-align: middle;\n",
       "    }\n",
       "\n",
       "    .dataframe tbody tr th {\n",
       "        vertical-align: top;\n",
       "    }\n",
       "\n",
       "    .dataframe thead th {\n",
       "        text-align: right;\n",
       "    }\n",
       "</style>\n",
       "<table border=\"1\" class=\"dataframe\">\n",
       "  <thead>\n",
       "    <tr style=\"text-align: right;\">\n",
       "      <th></th>\n",
       "      <th>A</th>\n",
       "      <th>B</th>\n",
       "      <th>C</th>\n",
       "      <th>D</th>\n",
       "    </tr>\n",
       "  </thead>\n",
       "  <tbody>\n",
       "    <tr>\n",
       "      <th>2013-01-02</th>\n",
       "      <td>0.182132</td>\n",
       "      <td>0.120818</td>\n",
       "      <td>0.215721</td>\n",
       "      <td>-1.053122</td>\n",
       "    </tr>\n",
       "    <tr>\n",
       "      <th>2013-01-04</th>\n",
       "      <td>1.131547</td>\n",
       "      <td>0.140290</td>\n",
       "      <td>-0.327818</td>\n",
       "      <td>-1.273202</td>\n",
       "    </tr>\n",
       "    <tr>\n",
       "      <th>2013-01-05</th>\n",
       "      <td>2.012423</td>\n",
       "      <td>0.377411</td>\n",
       "      <td>-0.808310</td>\n",
       "      <td>-2.868135</td>\n",
       "    </tr>\n",
       "    <tr>\n",
       "      <th>2013-01-06</th>\n",
       "      <td>-1.568683</td>\n",
       "      <td>0.698683</td>\n",
       "      <td>0.251194</td>\n",
       "      <td>0.307066</td>\n",
       "    </tr>\n",
       "    <tr>\n",
       "      <th>2013-01-03</th>\n",
       "      <td>0.711736</td>\n",
       "      <td>0.740896</td>\n",
       "      <td>0.044078</td>\n",
       "      <td>-1.838124</td>\n",
       "    </tr>\n",
       "    <tr>\n",
       "      <th>2013-01-01</th>\n",
       "      <td>-0.252282</td>\n",
       "      <td>0.785418</td>\n",
       "      <td>0.690153</td>\n",
       "      <td>-0.510640</td>\n",
       "    </tr>\n",
       "  </tbody>\n",
       "</table>\n",
       "</div>"
      ],
      "text/plain": [
       "                   A         B         C         D\n",
       "2013-01-02  0.182132  0.120818  0.215721 -1.053122\n",
       "2013-01-04  1.131547  0.140290 -0.327818 -1.273202\n",
       "2013-01-05  2.012423  0.377411 -0.808310 -2.868135\n",
       "2013-01-06 -1.568683  0.698683  0.251194  0.307066\n",
       "2013-01-03  0.711736  0.740896  0.044078 -1.838124\n",
       "2013-01-01 -0.252282  0.785418  0.690153 -0.510640"
      ]
     },
     "execution_count": 14,
     "metadata": {},
     "output_type": "execute_result"
    }
   ],
   "source": [
    "df.sort_values(by=\"B\")"
   ]
  },
  {
   "cell_type": "code",
   "execution_count": 15,
   "id": "7387e9ac-6138-4341-9534-831ba37eb515",
   "metadata": {},
   "outputs": [
    {
     "data": {
      "text/plain": [
       "2013-01-01   -0.252282\n",
       "2013-01-02    0.182132\n",
       "2013-01-03    0.711736\n",
       "2013-01-04    1.131547\n",
       "2013-01-05    2.012423\n",
       "2013-01-06   -1.568683\n",
       "Freq: D, Name: A, dtype: float64"
      ]
     },
     "execution_count": 15,
     "metadata": {},
     "output_type": "execute_result"
    }
   ],
   "source": [
    "df[\"A\"]"
   ]
  },
  {
   "cell_type": "code",
   "execution_count": 16,
   "id": "0c0c6a17-8f9c-417e-9111-2c9cb60e7068",
   "metadata": {},
   "outputs": [
    {
     "data": {
      "text/html": [
       "<div>\n",
       "<style scoped>\n",
       "    .dataframe tbody tr th:only-of-type {\n",
       "        vertical-align: middle;\n",
       "    }\n",
       "\n",
       "    .dataframe tbody tr th {\n",
       "        vertical-align: top;\n",
       "    }\n",
       "\n",
       "    .dataframe thead th {\n",
       "        text-align: right;\n",
       "    }\n",
       "</style>\n",
       "<table border=\"1\" class=\"dataframe\">\n",
       "  <thead>\n",
       "    <tr style=\"text-align: right;\">\n",
       "      <th></th>\n",
       "      <th>A</th>\n",
       "      <th>B</th>\n",
       "      <th>C</th>\n",
       "      <th>D</th>\n",
       "    </tr>\n",
       "  </thead>\n",
       "  <tbody>\n",
       "    <tr>\n",
       "      <th>2013-01-01</th>\n",
       "      <td>-0.252282</td>\n",
       "      <td>0.785418</td>\n",
       "      <td>0.690153</td>\n",
       "      <td>-0.510640</td>\n",
       "    </tr>\n",
       "    <tr>\n",
       "      <th>2013-01-02</th>\n",
       "      <td>0.182132</td>\n",
       "      <td>0.120818</td>\n",
       "      <td>0.215721</td>\n",
       "      <td>-1.053122</td>\n",
       "    </tr>\n",
       "    <tr>\n",
       "      <th>2013-01-03</th>\n",
       "      <td>0.711736</td>\n",
       "      <td>0.740896</td>\n",
       "      <td>0.044078</td>\n",
       "      <td>-1.838124</td>\n",
       "    </tr>\n",
       "  </tbody>\n",
       "</table>\n",
       "</div>"
      ],
      "text/plain": [
       "                   A         B         C         D\n",
       "2013-01-01 -0.252282  0.785418  0.690153 -0.510640\n",
       "2013-01-02  0.182132  0.120818  0.215721 -1.053122\n",
       "2013-01-03  0.711736  0.740896  0.044078 -1.838124"
      ]
     },
     "execution_count": 16,
     "metadata": {},
     "output_type": "execute_result"
    }
   ],
   "source": [
    "df[0:3]"
   ]
  },
  {
   "cell_type": "code",
   "execution_count": 17,
   "id": "8f102df1-3653-4aa7-9f3c-d6ac8c6c2e85",
   "metadata": {},
   "outputs": [
    {
     "data": {
      "text/plain": [
       "A   -0.252282\n",
       "B    0.785418\n",
       "C    0.690153\n",
       "D   -0.510640\n",
       "Name: 2013-01-01 00:00:00, dtype: float64"
      ]
     },
     "execution_count": 17,
     "metadata": {},
     "output_type": "execute_result"
    }
   ],
   "source": [
    "df.loc[dates[0]]"
   ]
  },
  {
   "cell_type": "code",
   "execution_count": 18,
   "id": "1f800791-f68d-4cc9-8217-db878c246321",
   "metadata": {},
   "outputs": [
    {
     "data": {
      "text/plain": [
       "A    0.182132\n",
       "B    0.120818\n",
       "Name: 2013-01-02 00:00:00, dtype: float64"
      ]
     },
     "execution_count": 18,
     "metadata": {},
     "output_type": "execute_result"
    }
   ],
   "source": [
    "df.loc[\"20130102\", [\"A\", \"B\"]]"
   ]
  },
  {
   "cell_type": "code",
   "execution_count": 19,
   "id": "3e6c5955-765a-414c-8015-01981c760549",
   "metadata": {},
   "outputs": [
    {
     "data": {
      "text/plain": [
       "A    1.131547\n",
       "B    0.140290\n",
       "C   -0.327818\n",
       "D   -1.273202\n",
       "Name: 2013-01-04 00:00:00, dtype: float64"
      ]
     },
     "execution_count": 19,
     "metadata": {},
     "output_type": "execute_result"
    }
   ],
   "source": [
    "df.iloc[3]"
   ]
  },
  {
   "cell_type": "code",
   "execution_count": 20,
   "id": "6019e92d-fd4d-4867-b3f1-ba53f548770a",
   "metadata": {},
   "outputs": [
    {
     "data": {
      "text/html": [
       "<div>\n",
       "<style scoped>\n",
       "    .dataframe tbody tr th:only-of-type {\n",
       "        vertical-align: middle;\n",
       "    }\n",
       "\n",
       "    .dataframe tbody tr th {\n",
       "        vertical-align: top;\n",
       "    }\n",
       "\n",
       "    .dataframe thead th {\n",
       "        text-align: right;\n",
       "    }\n",
       "</style>\n",
       "<table border=\"1\" class=\"dataframe\">\n",
       "  <thead>\n",
       "    <tr style=\"text-align: right;\">\n",
       "      <th></th>\n",
       "      <th>A</th>\n",
       "      <th>C</th>\n",
       "    </tr>\n",
       "  </thead>\n",
       "  <tbody>\n",
       "    <tr>\n",
       "      <th>2013-01-02</th>\n",
       "      <td>0.182132</td>\n",
       "      <td>0.215721</td>\n",
       "    </tr>\n",
       "    <tr>\n",
       "      <th>2013-01-03</th>\n",
       "      <td>0.711736</td>\n",
       "      <td>0.044078</td>\n",
       "    </tr>\n",
       "    <tr>\n",
       "      <th>2013-01-05</th>\n",
       "      <td>2.012423</td>\n",
       "      <td>-0.808310</td>\n",
       "    </tr>\n",
       "  </tbody>\n",
       "</table>\n",
       "</div>"
      ],
      "text/plain": [
       "                   A         C\n",
       "2013-01-02  0.182132  0.215721\n",
       "2013-01-03  0.711736  0.044078\n",
       "2013-01-05  2.012423 -0.808310"
      ]
     },
     "execution_count": 20,
     "metadata": {},
     "output_type": "execute_result"
    }
   ],
   "source": [
    "df.iloc[[1, 2, 4], [0, 2]]"
   ]
  },
  {
   "cell_type": "code",
   "execution_count": 21,
   "id": "67cba359-de5d-466b-8043-de8e6416529e",
   "metadata": {},
   "outputs": [
    {
     "data": {
      "text/html": [
       "<div>\n",
       "<style scoped>\n",
       "    .dataframe tbody tr th:only-of-type {\n",
       "        vertical-align: middle;\n",
       "    }\n",
       "\n",
       "    .dataframe tbody tr th {\n",
       "        vertical-align: top;\n",
       "    }\n",
       "\n",
       "    .dataframe thead th {\n",
       "        text-align: right;\n",
       "    }\n",
       "</style>\n",
       "<table border=\"1\" class=\"dataframe\">\n",
       "  <thead>\n",
       "    <tr style=\"text-align: right;\">\n",
       "      <th></th>\n",
       "      <th>B</th>\n",
       "      <th>C</th>\n",
       "    </tr>\n",
       "  </thead>\n",
       "  <tbody>\n",
       "    <tr>\n",
       "      <th>2013-01-01</th>\n",
       "      <td>0.785418</td>\n",
       "      <td>0.690153</td>\n",
       "    </tr>\n",
       "    <tr>\n",
       "      <th>2013-01-02</th>\n",
       "      <td>0.120818</td>\n",
       "      <td>0.215721</td>\n",
       "    </tr>\n",
       "    <tr>\n",
       "      <th>2013-01-03</th>\n",
       "      <td>0.740896</td>\n",
       "      <td>0.044078</td>\n",
       "    </tr>\n",
       "    <tr>\n",
       "      <th>2013-01-04</th>\n",
       "      <td>0.140290</td>\n",
       "      <td>-0.327818</td>\n",
       "    </tr>\n",
       "    <tr>\n",
       "      <th>2013-01-05</th>\n",
       "      <td>0.377411</td>\n",
       "      <td>-0.808310</td>\n",
       "    </tr>\n",
       "    <tr>\n",
       "      <th>2013-01-06</th>\n",
       "      <td>0.698683</td>\n",
       "      <td>0.251194</td>\n",
       "    </tr>\n",
       "  </tbody>\n",
       "</table>\n",
       "</div>"
      ],
      "text/plain": [
       "                   B         C\n",
       "2013-01-01  0.785418  0.690153\n",
       "2013-01-02  0.120818  0.215721\n",
       "2013-01-03  0.740896  0.044078\n",
       "2013-01-04  0.140290 -0.327818\n",
       "2013-01-05  0.377411 -0.808310\n",
       "2013-01-06  0.698683  0.251194"
      ]
     },
     "execution_count": 21,
     "metadata": {},
     "output_type": "execute_result"
    }
   ],
   "source": [
    "df.iloc[:, 1:3]"
   ]
  },
  {
   "cell_type": "code",
   "execution_count": 22,
   "id": "499e8da7-b1f7-4ca2-9aac-a2ca66630daf",
   "metadata": {},
   "outputs": [
    {
     "data": {
      "text/html": [
       "<div>\n",
       "<style scoped>\n",
       "    .dataframe tbody tr th:only-of-type {\n",
       "        vertical-align: middle;\n",
       "    }\n",
       "\n",
       "    .dataframe tbody tr th {\n",
       "        vertical-align: top;\n",
       "    }\n",
       "\n",
       "    .dataframe thead th {\n",
       "        text-align: right;\n",
       "    }\n",
       "</style>\n",
       "<table border=\"1\" class=\"dataframe\">\n",
       "  <thead>\n",
       "    <tr style=\"text-align: right;\">\n",
       "      <th></th>\n",
       "      <th>A</th>\n",
       "      <th>B</th>\n",
       "      <th>C</th>\n",
       "      <th>D</th>\n",
       "    </tr>\n",
       "  </thead>\n",
       "  <tbody>\n",
       "    <tr>\n",
       "      <th>2013-01-02</th>\n",
       "      <td>0.182132</td>\n",
       "      <td>0.120818</td>\n",
       "      <td>0.215721</td>\n",
       "      <td>-1.053122</td>\n",
       "    </tr>\n",
       "    <tr>\n",
       "      <th>2013-01-03</th>\n",
       "      <td>0.711736</td>\n",
       "      <td>0.740896</td>\n",
       "      <td>0.044078</td>\n",
       "      <td>-1.838124</td>\n",
       "    </tr>\n",
       "    <tr>\n",
       "      <th>2013-01-04</th>\n",
       "      <td>1.131547</td>\n",
       "      <td>0.140290</td>\n",
       "      <td>-0.327818</td>\n",
       "      <td>-1.273202</td>\n",
       "    </tr>\n",
       "    <tr>\n",
       "      <th>2013-01-05</th>\n",
       "      <td>2.012423</td>\n",
       "      <td>0.377411</td>\n",
       "      <td>-0.808310</td>\n",
       "      <td>-2.868135</td>\n",
       "    </tr>\n",
       "  </tbody>\n",
       "</table>\n",
       "</div>"
      ],
      "text/plain": [
       "                   A         B         C         D\n",
       "2013-01-02  0.182132  0.120818  0.215721 -1.053122\n",
       "2013-01-03  0.711736  0.740896  0.044078 -1.838124\n",
       "2013-01-04  1.131547  0.140290 -0.327818 -1.273202\n",
       "2013-01-05  2.012423  0.377411 -0.808310 -2.868135"
      ]
     },
     "execution_count": 22,
     "metadata": {},
     "output_type": "execute_result"
    }
   ],
   "source": [
    "df[df[\"A\"] > 0]"
   ]
  },
  {
   "cell_type": "code",
   "execution_count": 23,
   "id": "8fc0fa4d-64fb-4c3f-afc6-a334f8b67d5e",
   "metadata": {},
   "outputs": [
    {
     "name": "stdout",
     "output_type": "stream",
     "text": [
      "2013-01-02    1\n",
      "2013-01-03    2\n",
      "2013-01-04    3\n",
      "2013-01-05    4\n",
      "2013-01-06    5\n",
      "2013-01-07    6\n",
      "Freq: D, dtype: int64\n"
     ]
    }
   ],
   "source": [
    "s1 = pd.Series([1, 2, 3, 4, 5, 6], index=pd.date_range(\"20130102\", periods=6))\n",
    "print(s1)"
   ]
  },
  {
   "cell_type": "code",
   "execution_count": 24,
   "id": "85aaa052-082d-45df-9619-56aa9007c73a",
   "metadata": {},
   "outputs": [],
   "source": [
    "df.at[dates[0], \"A\"] = 0"
   ]
  },
  {
   "cell_type": "code",
   "execution_count": 25,
   "id": "d291836c-7889-4e4d-83c2-dfe90f27e47b",
   "metadata": {},
   "outputs": [],
   "source": [
    "df1 = df.reindex(index=dates[0:4], columns=list(df.columns) + [\"E\"])"
   ]
  },
  {
   "cell_type": "code",
   "execution_count": 26,
   "id": "60e0af5b-22ac-4505-94cf-4c521df03d9a",
   "metadata": {},
   "outputs": [],
   "source": [
    " df1.loc[dates[0] : dates[1], \"E\"] = 1\n"
   ]
  },
  {
   "cell_type": "code",
   "execution_count": 27,
   "id": "8f2c8eb3-a76a-4e74-b6e4-950db2b3d449",
   "metadata": {},
   "outputs": [
    {
     "name": "stdout",
     "output_type": "stream",
     "text": [
      "                   A         B         C         D    E\n",
      "2013-01-01  0.000000  0.785418  0.690153 -0.510640  1.0\n",
      "2013-01-02  0.182132  0.120818  0.215721 -1.053122  1.0\n",
      "2013-01-03  0.711736  0.740896  0.044078 -1.838124  NaN\n",
      "2013-01-04  1.131547  0.140290 -0.327818 -1.273202  NaN\n"
     ]
    }
   ],
   "source": [
    "print(df1)"
   ]
  },
  {
   "cell_type": "code",
   "execution_count": 28,
   "id": "db79be6a-cf3f-4570-a4a4-d87cc6ba7c3f",
   "metadata": {},
   "outputs": [
    {
     "data": {
      "text/html": [
       "<div>\n",
       "<style scoped>\n",
       "    .dataframe tbody tr th:only-of-type {\n",
       "        vertical-align: middle;\n",
       "    }\n",
       "\n",
       "    .dataframe tbody tr th {\n",
       "        vertical-align: top;\n",
       "    }\n",
       "\n",
       "    .dataframe thead th {\n",
       "        text-align: right;\n",
       "    }\n",
       "</style>\n",
       "<table border=\"1\" class=\"dataframe\">\n",
       "  <thead>\n",
       "    <tr style=\"text-align: right;\">\n",
       "      <th></th>\n",
       "      <th>A</th>\n",
       "      <th>B</th>\n",
       "      <th>C</th>\n",
       "      <th>D</th>\n",
       "      <th>E</th>\n",
       "    </tr>\n",
       "  </thead>\n",
       "  <tbody>\n",
       "    <tr>\n",
       "      <th>2013-01-01</th>\n",
       "      <td>0.000000</td>\n",
       "      <td>0.785418</td>\n",
       "      <td>0.690153</td>\n",
       "      <td>-0.510640</td>\n",
       "      <td>1.0</td>\n",
       "    </tr>\n",
       "    <tr>\n",
       "      <th>2013-01-02</th>\n",
       "      <td>0.182132</td>\n",
       "      <td>0.120818</td>\n",
       "      <td>0.215721</td>\n",
       "      <td>-1.053122</td>\n",
       "      <td>1.0</td>\n",
       "    </tr>\n",
       "  </tbody>\n",
       "</table>\n",
       "</div>"
      ],
      "text/plain": [
       "                   A         B         C         D    E\n",
       "2013-01-01  0.000000  0.785418  0.690153 -0.510640  1.0\n",
       "2013-01-02  0.182132  0.120818  0.215721 -1.053122  1.0"
      ]
     },
     "execution_count": 28,
     "metadata": {},
     "output_type": "execute_result"
    }
   ],
   "source": [
    "df1.dropna(how=\"any\")"
   ]
  },
  {
   "cell_type": "code",
   "execution_count": 29,
   "id": "79c01c0b-8e6a-4d24-b637-449b801f1e5d",
   "metadata": {},
   "outputs": [
    {
     "data": {
      "text/html": [
       "<div>\n",
       "<style scoped>\n",
       "    .dataframe tbody tr th:only-of-type {\n",
       "        vertical-align: middle;\n",
       "    }\n",
       "\n",
       "    .dataframe tbody tr th {\n",
       "        vertical-align: top;\n",
       "    }\n",
       "\n",
       "    .dataframe thead th {\n",
       "        text-align: right;\n",
       "    }\n",
       "</style>\n",
       "<table border=\"1\" class=\"dataframe\">\n",
       "  <thead>\n",
       "    <tr style=\"text-align: right;\">\n",
       "      <th></th>\n",
       "      <th>A</th>\n",
       "      <th>B</th>\n",
       "      <th>C</th>\n",
       "      <th>D</th>\n",
       "      <th>E</th>\n",
       "    </tr>\n",
       "  </thead>\n",
       "  <tbody>\n",
       "    <tr>\n",
       "      <th>2013-01-01</th>\n",
       "      <td>0.000000</td>\n",
       "      <td>0.785418</td>\n",
       "      <td>0.690153</td>\n",
       "      <td>-0.510640</td>\n",
       "      <td>1.0</td>\n",
       "    </tr>\n",
       "    <tr>\n",
       "      <th>2013-01-02</th>\n",
       "      <td>0.182132</td>\n",
       "      <td>0.120818</td>\n",
       "      <td>0.215721</td>\n",
       "      <td>-1.053122</td>\n",
       "      <td>1.0</td>\n",
       "    </tr>\n",
       "    <tr>\n",
       "      <th>2013-01-03</th>\n",
       "      <td>0.711736</td>\n",
       "      <td>0.740896</td>\n",
       "      <td>0.044078</td>\n",
       "      <td>-1.838124</td>\n",
       "      <td>5.0</td>\n",
       "    </tr>\n",
       "    <tr>\n",
       "      <th>2013-01-04</th>\n",
       "      <td>1.131547</td>\n",
       "      <td>0.140290</td>\n",
       "      <td>-0.327818</td>\n",
       "      <td>-1.273202</td>\n",
       "      <td>5.0</td>\n",
       "    </tr>\n",
       "  </tbody>\n",
       "</table>\n",
       "</div>"
      ],
      "text/plain": [
       "                   A         B         C         D    E\n",
       "2013-01-01  0.000000  0.785418  0.690153 -0.510640  1.0\n",
       "2013-01-02  0.182132  0.120818  0.215721 -1.053122  1.0\n",
       "2013-01-03  0.711736  0.740896  0.044078 -1.838124  5.0\n",
       "2013-01-04  1.131547  0.140290 -0.327818 -1.273202  5.0"
      ]
     },
     "execution_count": 29,
     "metadata": {},
     "output_type": "execute_result"
    }
   ],
   "source": [
    "df1.fillna(value=5)"
   ]
  },
  {
   "cell_type": "code",
   "execution_count": 30,
   "id": "7adb170a-0eec-4f99-8e54-aa6030b19c86",
   "metadata": {},
   "outputs": [
    {
     "data": {
      "text/html": [
       "<div>\n",
       "<style scoped>\n",
       "    .dataframe tbody tr th:only-of-type {\n",
       "        vertical-align: middle;\n",
       "    }\n",
       "\n",
       "    .dataframe tbody tr th {\n",
       "        vertical-align: top;\n",
       "    }\n",
       "\n",
       "    .dataframe thead th {\n",
       "        text-align: right;\n",
       "    }\n",
       "</style>\n",
       "<table border=\"1\" class=\"dataframe\">\n",
       "  <thead>\n",
       "    <tr style=\"text-align: right;\">\n",
       "      <th></th>\n",
       "      <th>A</th>\n",
       "      <th>B</th>\n",
       "      <th>C</th>\n",
       "      <th>D</th>\n",
       "      <th>E</th>\n",
       "    </tr>\n",
       "  </thead>\n",
       "  <tbody>\n",
       "    <tr>\n",
       "      <th>2013-01-01</th>\n",
       "      <td>False</td>\n",
       "      <td>False</td>\n",
       "      <td>False</td>\n",
       "      <td>False</td>\n",
       "      <td>False</td>\n",
       "    </tr>\n",
       "    <tr>\n",
       "      <th>2013-01-02</th>\n",
       "      <td>False</td>\n",
       "      <td>False</td>\n",
       "      <td>False</td>\n",
       "      <td>False</td>\n",
       "      <td>False</td>\n",
       "    </tr>\n",
       "    <tr>\n",
       "      <th>2013-01-03</th>\n",
       "      <td>False</td>\n",
       "      <td>False</td>\n",
       "      <td>False</td>\n",
       "      <td>False</td>\n",
       "      <td>True</td>\n",
       "    </tr>\n",
       "    <tr>\n",
       "      <th>2013-01-04</th>\n",
       "      <td>False</td>\n",
       "      <td>False</td>\n",
       "      <td>False</td>\n",
       "      <td>False</td>\n",
       "      <td>True</td>\n",
       "    </tr>\n",
       "  </tbody>\n",
       "</table>\n",
       "</div>"
      ],
      "text/plain": [
       "                A      B      C      D      E\n",
       "2013-01-01  False  False  False  False  False\n",
       "2013-01-02  False  False  False  False  False\n",
       "2013-01-03  False  False  False  False   True\n",
       "2013-01-04  False  False  False  False   True"
      ]
     },
     "execution_count": 30,
     "metadata": {},
     "output_type": "execute_result"
    }
   ],
   "source": [
    "pd.isna(df1)"
   ]
  },
  {
   "cell_type": "code",
   "execution_count": 31,
   "id": "3e9d3011-23cc-48e2-9b4d-dcd3aa5f09c0",
   "metadata": {},
   "outputs": [
    {
     "data": {
      "text/plain": [
       "A    0.411526\n",
       "B    0.477253\n",
       "C    0.010836\n",
       "D   -1.206026\n",
       "dtype: float64"
      ]
     },
     "execution_count": 31,
     "metadata": {},
     "output_type": "execute_result"
    }
   ],
   "source": [
    "df.mean()\n"
   ]
  },
  {
   "cell_type": "code",
   "execution_count": 32,
   "id": "e7ebade4-151e-483b-ab0b-bf5ba90cfdbe",
   "metadata": {},
   "outputs": [
    {
     "data": {
      "text/plain": [
       "2013-01-01    0.241233\n",
       "2013-01-02   -0.133613\n",
       "2013-01-03   -0.085354\n",
       "2013-01-04   -0.082296\n",
       "2013-01-05   -0.321653\n",
       "2013-01-06   -0.077935\n",
       "Freq: D, dtype: float64"
      ]
     },
     "execution_count": 32,
     "metadata": {},
     "output_type": "execute_result"
    }
   ],
   "source": [
    "df.mean(1)"
   ]
  },
  {
   "cell_type": "code",
   "execution_count": 33,
   "id": "96d7d787-1e41-4931-80cc-72f307ba0512",
   "metadata": {},
   "outputs": [
    {
     "name": "stdout",
     "output_type": "stream",
     "text": [
      "2013-01-01    NaN\n",
      "2013-01-02    NaN\n",
      "2013-01-03    1.0\n",
      "2013-01-04    3.0\n",
      "2013-01-05    5.0\n",
      "2013-01-06    NaN\n",
      "Freq: D, dtype: float64\n"
     ]
    }
   ],
   "source": [
    "s = pd.Series([1, 3, 5, np.nan, 6, 8], index=dates).shift(2)\n",
    "print(s)"
   ]
  },
  {
   "cell_type": "code",
   "execution_count": 34,
   "id": "b027437c-bb2e-4164-97a9-ec0ceedb3859",
   "metadata": {},
   "outputs": [
    {
     "data": {
      "text/html": [
       "<div>\n",
       "<style scoped>\n",
       "    .dataframe tbody tr th:only-of-type {\n",
       "        vertical-align: middle;\n",
       "    }\n",
       "\n",
       "    .dataframe tbody tr th {\n",
       "        vertical-align: top;\n",
       "    }\n",
       "\n",
       "    .dataframe thead th {\n",
       "        text-align: right;\n",
       "    }\n",
       "</style>\n",
       "<table border=\"1\" class=\"dataframe\">\n",
       "  <thead>\n",
       "    <tr style=\"text-align: right;\">\n",
       "      <th></th>\n",
       "      <th>A</th>\n",
       "      <th>B</th>\n",
       "      <th>C</th>\n",
       "      <th>D</th>\n",
       "    </tr>\n",
       "  </thead>\n",
       "  <tbody>\n",
       "    <tr>\n",
       "      <th>2013-01-01</th>\n",
       "      <td>0.000000</td>\n",
       "      <td>0.785418</td>\n",
       "      <td>0.690153</td>\n",
       "      <td>-0.510640</td>\n",
       "    </tr>\n",
       "    <tr>\n",
       "      <th>2013-01-02</th>\n",
       "      <td>0.182132</td>\n",
       "      <td>0.906236</td>\n",
       "      <td>0.905874</td>\n",
       "      <td>-1.563762</td>\n",
       "    </tr>\n",
       "    <tr>\n",
       "      <th>2013-01-03</th>\n",
       "      <td>0.893868</td>\n",
       "      <td>1.647131</td>\n",
       "      <td>0.949952</td>\n",
       "      <td>-3.401886</td>\n",
       "    </tr>\n",
       "    <tr>\n",
       "      <th>2013-01-04</th>\n",
       "      <td>2.025415</td>\n",
       "      <td>1.787422</td>\n",
       "      <td>0.622134</td>\n",
       "      <td>-4.675088</td>\n",
       "    </tr>\n",
       "    <tr>\n",
       "      <th>2013-01-05</th>\n",
       "      <td>4.037838</td>\n",
       "      <td>2.164832</td>\n",
       "      <td>-0.186176</td>\n",
       "      <td>-7.543223</td>\n",
       "    </tr>\n",
       "    <tr>\n",
       "      <th>2013-01-06</th>\n",
       "      <td>2.469155</td>\n",
       "      <td>2.863515</td>\n",
       "      <td>0.065019</td>\n",
       "      <td>-7.236157</td>\n",
       "    </tr>\n",
       "  </tbody>\n",
       "</table>\n",
       "</div>"
      ],
      "text/plain": [
       "                   A         B         C         D\n",
       "2013-01-01  0.000000  0.785418  0.690153 -0.510640\n",
       "2013-01-02  0.182132  0.906236  0.905874 -1.563762\n",
       "2013-01-03  0.893868  1.647131  0.949952 -3.401886\n",
       "2013-01-04  2.025415  1.787422  0.622134 -4.675088\n",
       "2013-01-05  4.037838  2.164832 -0.186176 -7.543223\n",
       "2013-01-06  2.469155  2.863515  0.065019 -7.236157"
      ]
     },
     "execution_count": 34,
     "metadata": {},
     "output_type": "execute_result"
    }
   ],
   "source": [
    "df.apply(np.cumsum)"
   ]
  },
  {
   "cell_type": "code",
   "execution_count": 35,
   "id": "70ba9c31-9cae-489f-9f24-9097fb10a109",
   "metadata": {},
   "outputs": [
    {
     "name": "stdout",
     "output_type": "stream",
     "text": [
      "0    2\n",
      "1    6\n",
      "2    5\n",
      "3    5\n",
      "4    6\n",
      "5    5\n",
      "6    5\n",
      "7    1\n",
      "8    3\n",
      "9    6\n",
      "dtype: int32\n"
     ]
    }
   ],
   "source": [
    "s = pd.Series(np.random.randint(0, 7, size=10))\n",
    "print(s)"
   ]
  },
  {
   "cell_type": "code",
   "execution_count": 36,
   "id": "631ba44a-42f0-4773-9d97-824172ea408b",
   "metadata": {},
   "outputs": [
    {
     "data": {
      "text/plain": [
       "5    4\n",
       "6    3\n",
       "1    1\n",
       "2    1\n",
       "3    1\n",
       "dtype: int64"
      ]
     },
     "execution_count": 36,
     "metadata": {},
     "output_type": "execute_result"
    }
   ],
   "source": [
    "s.value_counts()"
   ]
  },
  {
   "cell_type": "code",
   "execution_count": 37,
   "id": "356c8904-e64d-445f-8ffc-9b7e6827d1ff",
   "metadata": {},
   "outputs": [],
   "source": [
    "s = pd.Series([\"A\", \"B\", \"C\", \"Aaba\", \"Baca\", np.nan, \"CABA\", \"dog\", \"cat\"])"
   ]
  },
  {
   "cell_type": "code",
   "execution_count": 38,
   "id": "eb4d84dc-237f-4ab0-9b59-1fb1bc02a41a",
   "metadata": {},
   "outputs": [
    {
     "data": {
      "text/plain": [
       "0       a\n",
       "1       b\n",
       "2       c\n",
       "3    aaba\n",
       "4    baca\n",
       "5     NaN\n",
       "6    caba\n",
       "7     dog\n",
       "8     cat\n",
       "dtype: object"
      ]
     },
     "execution_count": 38,
     "metadata": {},
     "output_type": "execute_result"
    }
   ],
   "source": [
    "s.str.lower()"
   ]
  },
  {
   "cell_type": "code",
   "execution_count": 39,
   "id": "cce05686-a356-45ad-b0c6-79f5c55ceb41",
   "metadata": {},
   "outputs": [],
   "source": [
    "df = pd.DataFrame(np.random.randn(10, 4))"
   ]
  },
  {
   "cell_type": "code",
   "execution_count": 40,
   "id": "36fcffc6-0f94-453b-b30c-29b54da0b575",
   "metadata": {},
   "outputs": [
    {
     "name": "stdout",
     "output_type": "stream",
     "text": [
      "          0         1         2         3\n",
      "0 -1.785115  0.440563 -0.092945 -1.425157\n",
      "1  0.594783  0.220599 -0.195339  0.323183\n",
      "2 -0.022232  0.923624  0.678617  1.284517\n",
      "3  1.504853 -0.019907 -0.063051  1.071774\n",
      "4 -2.451805  0.021173 -0.929693 -0.367021\n",
      "5 -0.758581 -1.363816 -0.326941 -0.305078\n",
      "6  2.094156  1.664563  1.118877 -0.818865\n",
      "7  0.408562 -0.354237 -0.076194  0.178313\n",
      "8 -0.501082  1.999565  2.442050 -0.710381\n",
      "9 -0.185983  1.441293  0.579136  0.338189\n"
     ]
    }
   ],
   "source": [
    "print(df)"
   ]
  },
  {
   "cell_type": "code",
   "execution_count": 41,
   "id": "d9673481-6a39-4adf-b57d-12c707d7f70f",
   "metadata": {},
   "outputs": [
    {
     "name": "stdout",
     "output_type": "stream",
     "text": [
      "   key  lval\n",
      "0  foo     1\n",
      "1  foo     2\n"
     ]
    }
   ],
   "source": [
    "left = pd.DataFrame({\"key\": [\"foo\", \"foo\"], \"lval\": [1, 2]})\n",
    "right = pd.DataFrame({\"key\": [\"foo\", \"foo\"], \"rval\": [4, 5]})\n",
    "print(left)"
   ]
  },
  {
   "cell_type": "code",
   "execution_count": 42,
   "id": "50ec01ec-442f-4748-91cf-e8142ba8c282",
   "metadata": {},
   "outputs": [
    {
     "name": "stdout",
     "output_type": "stream",
     "text": [
      "   key  rval\n",
      "0  foo     4\n",
      "1  foo     5\n"
     ]
    }
   ],
   "source": [
    "print(right)"
   ]
  },
  {
   "cell_type": "code",
   "execution_count": 43,
   "id": "8ac5ae34-9a21-493f-9b81-4694b3514f74",
   "metadata": {},
   "outputs": [
    {
     "data": {
      "text/html": [
       "<div>\n",
       "<style scoped>\n",
       "    .dataframe tbody tr th:only-of-type {\n",
       "        vertical-align: middle;\n",
       "    }\n",
       "\n",
       "    .dataframe tbody tr th {\n",
       "        vertical-align: top;\n",
       "    }\n",
       "\n",
       "    .dataframe thead th {\n",
       "        text-align: right;\n",
       "    }\n",
       "</style>\n",
       "<table border=\"1\" class=\"dataframe\">\n",
       "  <thead>\n",
       "    <tr style=\"text-align: right;\">\n",
       "      <th></th>\n",
       "      <th>key</th>\n",
       "      <th>lval</th>\n",
       "      <th>rval</th>\n",
       "    </tr>\n",
       "  </thead>\n",
       "  <tbody>\n",
       "    <tr>\n",
       "      <th>0</th>\n",
       "      <td>foo</td>\n",
       "      <td>1</td>\n",
       "      <td>4</td>\n",
       "    </tr>\n",
       "    <tr>\n",
       "      <th>1</th>\n",
       "      <td>foo</td>\n",
       "      <td>1</td>\n",
       "      <td>5</td>\n",
       "    </tr>\n",
       "    <tr>\n",
       "      <th>2</th>\n",
       "      <td>foo</td>\n",
       "      <td>2</td>\n",
       "      <td>4</td>\n",
       "    </tr>\n",
       "    <tr>\n",
       "      <th>3</th>\n",
       "      <td>foo</td>\n",
       "      <td>2</td>\n",
       "      <td>5</td>\n",
       "    </tr>\n",
       "  </tbody>\n",
       "</table>\n",
       "</div>"
      ],
      "text/plain": [
       "   key  lval  rval\n",
       "0  foo     1     4\n",
       "1  foo     1     5\n",
       "2  foo     2     4\n",
       "3  foo     2     5"
      ]
     },
     "execution_count": 43,
     "metadata": {},
     "output_type": "execute_result"
    }
   ],
   "source": [
    "pd.merge(left, right, on=\"key\")"
   ]
  },
  {
   "cell_type": "code",
   "execution_count": 44,
   "id": "bcb309e3-88a1-44a7-a470-3a7a86508eca",
   "metadata": {},
   "outputs": [],
   "source": [
    "df = pd.DataFrame(\n",
    "   ....:     {\n",
    "   ....:         \"A\": [\"foo\", \"bar\", \"foo\", \"bar\", \"foo\", \"bar\", \"foo\", \"foo\"],\n",
    "   ....:         \"B\": [\"one\", \"one\", \"two\", \"three\", \"two\", \"two\", \"one\", \"three\"],\n",
    "   ....:         \"C\": np.random.randn(8),\n",
    "   ....:         \"D\": np.random.randn(8),\n",
    "   ....:     }\n",
    "   ....: )"
   ]
  },
  {
   "cell_type": "code",
   "execution_count": 45,
   "id": "80614941-2735-4205-8ef0-a788dee04fd2",
   "metadata": {},
   "outputs": [
    {
     "name": "stdout",
     "output_type": "stream",
     "text": [
      "     A      B         C         D\n",
      "0  foo    one -0.703459 -0.969071\n",
      "1  bar    one -1.550162 -0.516939\n",
      "2  foo    two -0.333746 -0.578540\n",
      "3  bar  three -0.223261  0.449833\n",
      "4  foo    two -0.771392  2.463234\n",
      "5  bar    two -0.894691  1.754675\n",
      "6  foo    one -0.086657  1.462992\n",
      "7  foo  three  0.834634 -1.097619\n"
     ]
    }
   ],
   "source": [
    "print(df)"
   ]
  },
  {
   "cell_type": "code",
   "execution_count": 46,
   "id": "9de5a030-84fa-4a71-b6f3-2c6998577b9d",
   "metadata": {},
   "outputs": [
    {
     "data": {
      "text/html": [
       "<div>\n",
       "<style scoped>\n",
       "    .dataframe tbody tr th:only-of-type {\n",
       "        vertical-align: middle;\n",
       "    }\n",
       "\n",
       "    .dataframe tbody tr th {\n",
       "        vertical-align: top;\n",
       "    }\n",
       "\n",
       "    .dataframe thead th {\n",
       "        text-align: right;\n",
       "    }\n",
       "</style>\n",
       "<table border=\"1\" class=\"dataframe\">\n",
       "  <thead>\n",
       "    <tr style=\"text-align: right;\">\n",
       "      <th></th>\n",
       "      <th>C</th>\n",
       "      <th>D</th>\n",
       "    </tr>\n",
       "    <tr>\n",
       "      <th>A</th>\n",
       "      <th></th>\n",
       "      <th></th>\n",
       "    </tr>\n",
       "  </thead>\n",
       "  <tbody>\n",
       "    <tr>\n",
       "      <th>bar</th>\n",
       "      <td>-2.668114</td>\n",
       "      <td>1.687569</td>\n",
       "    </tr>\n",
       "    <tr>\n",
       "      <th>foo</th>\n",
       "      <td>-1.060620</td>\n",
       "      <td>1.280996</td>\n",
       "    </tr>\n",
       "  </tbody>\n",
       "</table>\n",
       "</div>"
      ],
      "text/plain": [
       "            C         D\n",
       "A                      \n",
       "bar -2.668114  1.687569\n",
       "foo -1.060620  1.280996"
      ]
     },
     "execution_count": 46,
     "metadata": {},
     "output_type": "execute_result"
    }
   ],
   "source": [
    "df.groupby(\"A\").sum()"
   ]
  },
  {
   "cell_type": "code",
   "execution_count": 47,
   "id": "497262dd-c42d-403c-bb53-309e1eaa8f53",
   "metadata": {},
   "outputs": [],
   "source": [
    "tuples = list(\n",
    "   ....:     zip(\n",
    "   ....:         *[\n",
    "   ....:             [\"bar\", \"bar\", \"baz\", \"baz\", \"foo\", \"foo\", \"qux\", \"qux\"],\n",
    "   ....:             [\"one\", \"two\", \"one\", \"two\", \"one\", \"two\", \"one\", \"two\"],\n",
    "   ....:         ]\n",
    "   ....:     )\n",
    "   ....: )\n",
    "   ....: "
   ]
  },
  {
   "cell_type": "code",
   "execution_count": 48,
   "id": "2a4dca4c-57ae-4686-8de5-1cac8f2deee8",
   "metadata": {},
   "outputs": [],
   "source": [
    "index = pd.MultiIndex.from_tuples(tuples, names=[\"first\", \"second\"])"
   ]
  },
  {
   "cell_type": "code",
   "execution_count": 49,
   "id": "e52da46f-217c-4d7c-830c-230befc873c6",
   "metadata": {},
   "outputs": [],
   "source": [
    "df = pd.DataFrame(np.random.randn(8, 2), index=index, columns=[\"A\", \"B\"])\n"
   ]
  },
  {
   "cell_type": "code",
   "execution_count": 50,
   "id": "5529494d-b6f3-461a-ba83-37e146bb5752",
   "metadata": {},
   "outputs": [
    {
     "name": "stdout",
     "output_type": "stream",
     "text": [
      "                     A         B\n",
      "first second                    \n",
      "bar   one     0.927643 -0.769281\n",
      "      two    -0.031977 -1.696760\n",
      "baz   one     0.090157  0.540456\n",
      "      two     0.561524  0.752431\n"
     ]
    }
   ],
   "source": [
    "df2 = df[:4]\n",
    "\n",
    "print(df2)"
   ]
  },
  {
   "cell_type": "code",
   "execution_count": 51,
   "id": "aab3c9b5-e493-46a9-b298-6149611bdc74",
   "metadata": {},
   "outputs": [
    {
     "name": "stdout",
     "output_type": "stream",
     "text": [
      "first  second   \n",
      "bar    one     A    0.927643\n",
      "               B   -0.769281\n",
      "       two     A   -0.031977\n",
      "               B   -1.696760\n",
      "baz    one     A    0.090157\n",
      "               B    0.540456\n",
      "       two     A    0.561524\n",
      "               B    0.752431\n",
      "dtype: float64\n"
     ]
    }
   ],
   "source": [
    "stacked = df2.stack()\n",
    "print(stacked)"
   ]
  },
  {
   "cell_type": "code",
   "execution_count": null,
   "id": "b0d349b4-b595-4cbb-b920-b9d67fff4aeb",
   "metadata": {},
   "outputs": [],
   "source": []
  }
 ],
 "metadata": {
  "kernelspec": {
   "display_name": "Python 3",
   "language": "python",
   "name": "python3"
  },
  "language_info": {
   "codemirror_mode": {
    "name": "ipython",
    "version": 3
   },
   "file_extension": ".py",
   "mimetype": "text/x-python",
   "name": "python",
   "nbconvert_exporter": "python",
   "pygments_lexer": "ipython3",
   "version": "3.8.8"
  }
 },
 "nbformat": 4,
 "nbformat_minor": 5
}
