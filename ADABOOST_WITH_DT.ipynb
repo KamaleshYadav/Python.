{
 "cells": [
  {
   "cell_type": "code",
   "execution_count": 4,
   "id": "9e304eb8-7516-4696-ae56-dbbfd3185797",
   "metadata": {},
   "outputs": [],
   "source": [
    "#importing libraries\n",
    "\n",
    "import numpy as np\n",
    "import pandas as pd\n",
    "import matplotlib.pyplot as plt\n",
    "from random import sample\n",
    "import random\n",
    "from sklearn.tree import DecisionTreeClassifier\n",
    "from sklearn.metrics import confusion_matrix\n",
    "from sklearn import tree\n",
    "from math import log,exp"
   ]
  },
  {
   "cell_type": "code",
   "execution_count": 5,
   "id": "982200e8-3ba2-4fe0-9e86-32d338524458",
   "metadata": {},
   "outputs": [],
   "source": [
    "pd.set_option('display.max_rows', 500)\n",
    "pd.set_option('display.max_columns', 500)"
   ]
  },
  {
   "cell_type": "code",
   "execution_count": 6,
   "id": "dfc284cd-0ebc-4191-baba-0a2157862b61",
   "metadata": {},
   "outputs": [
    {
     "ename": "FileNotFoundError",
     "evalue": "[Errno 2] No such file or directory: 'iris.csv'",
     "output_type": "error",
     "traceback": [
      "\u001b[1;31m---------------------------------------------------------------------------\u001b[0m",
      "\u001b[1;31mFileNotFoundError\u001b[0m                         Traceback (most recent call last)",
      "\u001b[1;32m<ipython-input-6-30d341cdea9d>\u001b[0m in \u001b[0;36m<module>\u001b[1;34m\u001b[0m\n\u001b[0;32m      1\u001b[0m \u001b[1;31m#importing file\u001b[0m\u001b[1;33m\u001b[0m\u001b[1;33m\u001b[0m\u001b[1;33m\u001b[0m\u001b[0m\n\u001b[1;32m----> 2\u001b[1;33m \u001b[0miris\u001b[0m \u001b[1;33m=\u001b[0m \u001b[0mpd\u001b[0m\u001b[1;33m.\u001b[0m\u001b[0mread_csv\u001b[0m\u001b[1;33m(\u001b[0m\u001b[1;34m\"iris.csv\"\u001b[0m\u001b[1;33m)\u001b[0m\u001b[1;33m\u001b[0m\u001b[1;33m\u001b[0m\u001b[0m\n\u001b[0m",
      "\u001b[1;32m~\\anaconda3\\lib\\site-packages\\pandas\\io\\parsers.py\u001b[0m in \u001b[0;36mread_csv\u001b[1;34m(filepath_or_buffer, sep, delimiter, header, names, index_col, usecols, squeeze, prefix, mangle_dupe_cols, dtype, engine, converters, true_values, false_values, skipinitialspace, skiprows, skipfooter, nrows, na_values, keep_default_na, na_filter, verbose, skip_blank_lines, parse_dates, infer_datetime_format, keep_date_col, date_parser, dayfirst, cache_dates, iterator, chunksize, compression, thousands, decimal, lineterminator, quotechar, quoting, doublequote, escapechar, comment, encoding, dialect, error_bad_lines, warn_bad_lines, delim_whitespace, low_memory, memory_map, float_precision, storage_options)\u001b[0m\n\u001b[0;32m    608\u001b[0m     \u001b[0mkwds\u001b[0m\u001b[1;33m.\u001b[0m\u001b[0mupdate\u001b[0m\u001b[1;33m(\u001b[0m\u001b[0mkwds_defaults\u001b[0m\u001b[1;33m)\u001b[0m\u001b[1;33m\u001b[0m\u001b[1;33m\u001b[0m\u001b[0m\n\u001b[0;32m    609\u001b[0m \u001b[1;33m\u001b[0m\u001b[0m\n\u001b[1;32m--> 610\u001b[1;33m     \u001b[1;32mreturn\u001b[0m \u001b[0m_read\u001b[0m\u001b[1;33m(\u001b[0m\u001b[0mfilepath_or_buffer\u001b[0m\u001b[1;33m,\u001b[0m \u001b[0mkwds\u001b[0m\u001b[1;33m)\u001b[0m\u001b[1;33m\u001b[0m\u001b[1;33m\u001b[0m\u001b[0m\n\u001b[0m\u001b[0;32m    611\u001b[0m \u001b[1;33m\u001b[0m\u001b[0m\n\u001b[0;32m    612\u001b[0m \u001b[1;33m\u001b[0m\u001b[0m\n",
      "\u001b[1;32m~\\anaconda3\\lib\\site-packages\\pandas\\io\\parsers.py\u001b[0m in \u001b[0;36m_read\u001b[1;34m(filepath_or_buffer, kwds)\u001b[0m\n\u001b[0;32m    460\u001b[0m \u001b[1;33m\u001b[0m\u001b[0m\n\u001b[0;32m    461\u001b[0m     \u001b[1;31m# Create the parser.\u001b[0m\u001b[1;33m\u001b[0m\u001b[1;33m\u001b[0m\u001b[1;33m\u001b[0m\u001b[0m\n\u001b[1;32m--> 462\u001b[1;33m     \u001b[0mparser\u001b[0m \u001b[1;33m=\u001b[0m \u001b[0mTextFileReader\u001b[0m\u001b[1;33m(\u001b[0m\u001b[0mfilepath_or_buffer\u001b[0m\u001b[1;33m,\u001b[0m \u001b[1;33m**\u001b[0m\u001b[0mkwds\u001b[0m\u001b[1;33m)\u001b[0m\u001b[1;33m\u001b[0m\u001b[1;33m\u001b[0m\u001b[0m\n\u001b[0m\u001b[0;32m    463\u001b[0m \u001b[1;33m\u001b[0m\u001b[0m\n\u001b[0;32m    464\u001b[0m     \u001b[1;32mif\u001b[0m \u001b[0mchunksize\u001b[0m \u001b[1;32mor\u001b[0m \u001b[0miterator\u001b[0m\u001b[1;33m:\u001b[0m\u001b[1;33m\u001b[0m\u001b[1;33m\u001b[0m\u001b[0m\n",
      "\u001b[1;32m~\\anaconda3\\lib\\site-packages\\pandas\\io\\parsers.py\u001b[0m in \u001b[0;36m__init__\u001b[1;34m(self, f, engine, **kwds)\u001b[0m\n\u001b[0;32m    817\u001b[0m             \u001b[0mself\u001b[0m\u001b[1;33m.\u001b[0m\u001b[0moptions\u001b[0m\u001b[1;33m[\u001b[0m\u001b[1;34m\"has_index_names\"\u001b[0m\u001b[1;33m]\u001b[0m \u001b[1;33m=\u001b[0m \u001b[0mkwds\u001b[0m\u001b[1;33m[\u001b[0m\u001b[1;34m\"has_index_names\"\u001b[0m\u001b[1;33m]\u001b[0m\u001b[1;33m\u001b[0m\u001b[1;33m\u001b[0m\u001b[0m\n\u001b[0;32m    818\u001b[0m \u001b[1;33m\u001b[0m\u001b[0m\n\u001b[1;32m--> 819\u001b[1;33m         \u001b[0mself\u001b[0m\u001b[1;33m.\u001b[0m\u001b[0m_engine\u001b[0m \u001b[1;33m=\u001b[0m \u001b[0mself\u001b[0m\u001b[1;33m.\u001b[0m\u001b[0m_make_engine\u001b[0m\u001b[1;33m(\u001b[0m\u001b[0mself\u001b[0m\u001b[1;33m.\u001b[0m\u001b[0mengine\u001b[0m\u001b[1;33m)\u001b[0m\u001b[1;33m\u001b[0m\u001b[1;33m\u001b[0m\u001b[0m\n\u001b[0m\u001b[0;32m    820\u001b[0m \u001b[1;33m\u001b[0m\u001b[0m\n\u001b[0;32m    821\u001b[0m     \u001b[1;32mdef\u001b[0m \u001b[0mclose\u001b[0m\u001b[1;33m(\u001b[0m\u001b[0mself\u001b[0m\u001b[1;33m)\u001b[0m\u001b[1;33m:\u001b[0m\u001b[1;33m\u001b[0m\u001b[1;33m\u001b[0m\u001b[0m\n",
      "\u001b[1;32m~\\anaconda3\\lib\\site-packages\\pandas\\io\\parsers.py\u001b[0m in \u001b[0;36m_make_engine\u001b[1;34m(self, engine)\u001b[0m\n\u001b[0;32m   1048\u001b[0m             )\n\u001b[0;32m   1049\u001b[0m         \u001b[1;31m# error: Too many arguments for \"ParserBase\"\u001b[0m\u001b[1;33m\u001b[0m\u001b[1;33m\u001b[0m\u001b[1;33m\u001b[0m\u001b[0m\n\u001b[1;32m-> 1050\u001b[1;33m         \u001b[1;32mreturn\u001b[0m \u001b[0mmapping\u001b[0m\u001b[1;33m[\u001b[0m\u001b[0mengine\u001b[0m\u001b[1;33m]\u001b[0m\u001b[1;33m(\u001b[0m\u001b[0mself\u001b[0m\u001b[1;33m.\u001b[0m\u001b[0mf\u001b[0m\u001b[1;33m,\u001b[0m \u001b[1;33m**\u001b[0m\u001b[0mself\u001b[0m\u001b[1;33m.\u001b[0m\u001b[0moptions\u001b[0m\u001b[1;33m)\u001b[0m  \u001b[1;31m# type: ignore[call-arg]\u001b[0m\u001b[1;33m\u001b[0m\u001b[1;33m\u001b[0m\u001b[0m\n\u001b[0m\u001b[0;32m   1051\u001b[0m \u001b[1;33m\u001b[0m\u001b[0m\n\u001b[0;32m   1052\u001b[0m     \u001b[1;32mdef\u001b[0m \u001b[0m_failover_to_python\u001b[0m\u001b[1;33m(\u001b[0m\u001b[0mself\u001b[0m\u001b[1;33m)\u001b[0m\u001b[1;33m:\u001b[0m\u001b[1;33m\u001b[0m\u001b[1;33m\u001b[0m\u001b[0m\n",
      "\u001b[1;32m~\\anaconda3\\lib\\site-packages\\pandas\\io\\parsers.py\u001b[0m in \u001b[0;36m__init__\u001b[1;34m(self, src, **kwds)\u001b[0m\n\u001b[0;32m   1865\u001b[0m \u001b[1;33m\u001b[0m\u001b[0m\n\u001b[0;32m   1866\u001b[0m         \u001b[1;31m# open handles\u001b[0m\u001b[1;33m\u001b[0m\u001b[1;33m\u001b[0m\u001b[1;33m\u001b[0m\u001b[0m\n\u001b[1;32m-> 1867\u001b[1;33m         \u001b[0mself\u001b[0m\u001b[1;33m.\u001b[0m\u001b[0m_open_handles\u001b[0m\u001b[1;33m(\u001b[0m\u001b[0msrc\u001b[0m\u001b[1;33m,\u001b[0m \u001b[0mkwds\u001b[0m\u001b[1;33m)\u001b[0m\u001b[1;33m\u001b[0m\u001b[1;33m\u001b[0m\u001b[0m\n\u001b[0m\u001b[0;32m   1868\u001b[0m         \u001b[1;32massert\u001b[0m \u001b[0mself\u001b[0m\u001b[1;33m.\u001b[0m\u001b[0mhandles\u001b[0m \u001b[1;32mis\u001b[0m \u001b[1;32mnot\u001b[0m \u001b[1;32mNone\u001b[0m\u001b[1;33m\u001b[0m\u001b[1;33m\u001b[0m\u001b[0m\n\u001b[0;32m   1869\u001b[0m         \u001b[1;32mfor\u001b[0m \u001b[0mkey\u001b[0m \u001b[1;32min\u001b[0m \u001b[1;33m(\u001b[0m\u001b[1;34m\"storage_options\"\u001b[0m\u001b[1;33m,\u001b[0m \u001b[1;34m\"encoding\"\u001b[0m\u001b[1;33m,\u001b[0m \u001b[1;34m\"memory_map\"\u001b[0m\u001b[1;33m,\u001b[0m \u001b[1;34m\"compression\"\u001b[0m\u001b[1;33m)\u001b[0m\u001b[1;33m:\u001b[0m\u001b[1;33m\u001b[0m\u001b[1;33m\u001b[0m\u001b[0m\n",
      "\u001b[1;32m~\\anaconda3\\lib\\site-packages\\pandas\\io\\parsers.py\u001b[0m in \u001b[0;36m_open_handles\u001b[1;34m(self, src, kwds)\u001b[0m\n\u001b[0;32m   1360\u001b[0m         \u001b[0mLet\u001b[0m \u001b[0mthe\u001b[0m \u001b[0mreaders\u001b[0m \u001b[0mopen\u001b[0m \u001b[0mIOHanldes\u001b[0m \u001b[0mafter\u001b[0m \u001b[0mthey\u001b[0m \u001b[0mare\u001b[0m \u001b[0mdone\u001b[0m \u001b[1;32mwith\u001b[0m \u001b[0mtheir\u001b[0m \u001b[0mpotential\u001b[0m \u001b[0mraises\u001b[0m\u001b[1;33m.\u001b[0m\u001b[1;33m\u001b[0m\u001b[1;33m\u001b[0m\u001b[0m\n\u001b[0;32m   1361\u001b[0m         \"\"\"\n\u001b[1;32m-> 1362\u001b[1;33m         self.handles = get_handle(\n\u001b[0m\u001b[0;32m   1363\u001b[0m             \u001b[0msrc\u001b[0m\u001b[1;33m,\u001b[0m\u001b[1;33m\u001b[0m\u001b[1;33m\u001b[0m\u001b[0m\n\u001b[0;32m   1364\u001b[0m             \u001b[1;34m\"r\"\u001b[0m\u001b[1;33m,\u001b[0m\u001b[1;33m\u001b[0m\u001b[1;33m\u001b[0m\u001b[0m\n",
      "\u001b[1;32m~\\anaconda3\\lib\\site-packages\\pandas\\io\\common.py\u001b[0m in \u001b[0;36mget_handle\u001b[1;34m(path_or_buf, mode, encoding, compression, memory_map, is_text, errors, storage_options)\u001b[0m\n\u001b[0;32m    640\u001b[0m                 \u001b[0merrors\u001b[0m \u001b[1;33m=\u001b[0m \u001b[1;34m\"replace\"\u001b[0m\u001b[1;33m\u001b[0m\u001b[1;33m\u001b[0m\u001b[0m\n\u001b[0;32m    641\u001b[0m             \u001b[1;31m# Encoding\u001b[0m\u001b[1;33m\u001b[0m\u001b[1;33m\u001b[0m\u001b[1;33m\u001b[0m\u001b[0m\n\u001b[1;32m--> 642\u001b[1;33m             handle = open(\n\u001b[0m\u001b[0;32m    643\u001b[0m                 \u001b[0mhandle\u001b[0m\u001b[1;33m,\u001b[0m\u001b[1;33m\u001b[0m\u001b[1;33m\u001b[0m\u001b[0m\n\u001b[0;32m    644\u001b[0m                 \u001b[0mioargs\u001b[0m\u001b[1;33m.\u001b[0m\u001b[0mmode\u001b[0m\u001b[1;33m,\u001b[0m\u001b[1;33m\u001b[0m\u001b[1;33m\u001b[0m\u001b[0m\n",
      "\u001b[1;31mFileNotFoundError\u001b[0m: [Errno 2] No such file or directory: 'iris.csv'"
     ]
    }
   ],
   "source": [
    "#importing file\n",
    "iris = pd.read_csv(\"iris.csv\")"
   ]
  },
  {
   "cell_type": "code",
   "execution_count": 7,
   "id": "848ded09-db15-4652-9279-62230536c2ae",
   "metadata": {},
   "outputs": [
    {
     "ename": "NameError",
     "evalue": "name 'iris' is not defined",
     "output_type": "error",
     "traceback": [
      "\u001b[1;31m---------------------------------------------------------------------------\u001b[0m",
      "\u001b[1;31mNameError\u001b[0m                                 Traceback (most recent call last)",
      "\u001b[1;32m<ipython-input-7-ea5970338021>\u001b[0m in \u001b[0;36m<module>\u001b[1;34m\u001b[0m\n\u001b[1;32m----> 1\u001b[1;33m \u001b[0miris\u001b[0m \u001b[1;33m=\u001b[0m \u001b[0miris\u001b[0m\u001b[1;33m.\u001b[0m\u001b[0mdrop\u001b[0m\u001b[1;33m(\u001b[0m\u001b[1;34m'Unnamed: 0'\u001b[0m\u001b[1;33m,\u001b[0m \u001b[0maxis\u001b[0m\u001b[1;33m=\u001b[0m\u001b[1;36m1\u001b[0m\u001b[1;33m)\u001b[0m\u001b[1;33m\u001b[0m\u001b[1;33m\u001b[0m\u001b[0m\n\u001b[0m",
      "\u001b[1;31mNameError\u001b[0m: name 'iris' is not defined"
     ]
    }
   ],
   "source": [
    "iris = iris.drop('Unnamed: 0', axis=1)"
   ]
  },
  {
   "cell_type": "code",
   "execution_count": null,
   "id": "c1fcbbcb-e51a-4a6a-8692-54221874c233",
   "metadata": {},
   "outputs": [],
   "source": [
    "iris.head(1)"
   ]
  },
  {
   "cell_type": "code",
   "execution_count": null,
   "id": "d53f0e2b-18b4-4c61-bf84-41ccdddfe3d3",
   "metadata": {},
   "outputs": [],
   "source": [
    "#considering only two classes\n",
    "example = iris[(iris['Species'] == 'versicolor') | (iris['Species'] == 'virginica')]"
   ]
  },
  {
   "cell_type": "code",
   "execution_count": null,
   "id": "5909900c-dcf6-43ba-a368-93cf5a42d672",
   "metadata": {},
   "outputs": [],
   "source": [
    "example.head(2)"
   ]
  },
  {
   "cell_type": "code",
   "execution_count": null,
   "id": "ad7ba18c-8c2c-4606-8bfa-9d21769c9917",
   "metadata": {},
   "outputs": [],
   "source": [
    "#replacing the two classes with +1 and -1\n",
    "example['Label'] = example['Species'].replace(to_replace = ['versicolor','virginica'], value=[1,-1])"
   ]
  },
  {
   "cell_type": "code",
   "execution_count": null,
   "id": "aaecb614-5baf-4c0a-a52d-39603d3b2293",
   "metadata": {},
   "outputs": [],
   "source": [
    "example = example.drop('Species', axis = 1)"
   ]
  },
  {
   "cell_type": "code",
   "execution_count": null,
   "id": "15924701-a920-4e3a-ac0f-1ab447c6b6da",
   "metadata": {},
   "outputs": [],
   "source": [
    "#Initially assign same weights to each records in the dataset\n",
    "example['probR1'] = 1/(example.shape[0])"
   ]
  },
  {
   "cell_type": "code",
   "execution_count": null,
   "id": "82b0b19a-0297-45ab-9c9d-eced548e580e",
   "metadata": {},
   "outputs": [],
   "source": [
    "example.head(5)"
   ]
  },
  {
   "cell_type": "code",
   "execution_count": null,
   "id": "83478c09-c05f-4125-a383-b4298fa519d2",
   "metadata": {},
   "outputs": [],
   "source": [
    "#simple random sample with replacement\n",
    "random.seed(10)\n",
    "example1 = example.sample(len(example), replace = True, weights = example['probR1'])"
   ]
  },
  {
   "cell_type": "code",
   "execution_count": null,
   "id": "0e3db133-122b-4fcd-8f3f-2df685f318b1",
   "metadata": {},
   "outputs": [],
   "source": [
    "example1"
   ]
  },
  {
   "cell_type": "code",
   "execution_count": null,
   "id": "ab24f52d-0a3c-4d97-b037-b2f7eb2b2c34",
   "metadata": {},
   "outputs": [],
   "source": [
    "#X_train and Y_train split\n",
    "X_train = example1.iloc[0:len(iris),0:4]\n",
    "y_train = example1.iloc[0:len(iris),4]"
   ]
  },
  {
   "cell_type": "code",
   "execution_count": null,
   "id": "33276505-2d40-4d42-a6d7-80369711759c",
   "metadata": {},
   "outputs": [],
   "source": [
    "#fitting the DT model with depth one\n",
    "clf_gini = DecisionTreeClassifier(criterion = \"gini\", random_state = 100, max_depth=1)\n",
    "clf = clf_gini.fit(X_train, y_train)"
   ]
  },
  {
   "cell_type": "code",
   "execution_count": null,
   "id": "b36a578b-5bf5-42a3-9d0c-8df2bf4b9daa",
   "metadata": {},
   "outputs": [],
   "source": [
    "#plotting tree for round 1 boosting\n",
    "tree.plot_tree(clf)"
   ]
  },
  {
   "cell_type": "code",
   "execution_count": null,
   "id": "78210685-2faf-4177-a793-fdcbb3117790",
   "metadata": {},
   "outputs": [],
   "source": [
    "#prediction\n",
    "y_pred = clf_gini.predict(example.iloc[0:len(iris),0:4])\n",
    "y_pred"
   ]
  },
  {
   "cell_type": "code",
   "execution_count": null,
   "id": "8b7d91f1-ae95-4799-af98-1bb69c6dd6c7",
   "metadata": {},
   "outputs": [],
   "source": [
    "#adding a column pred1 after the first round of boosting\n",
    "example['pred1'] = y_pred"
   ]
  },
  {
   "cell_type": "code",
   "execution_count": null,
   "id": "9edefa43-8d60-4c06-ad7e-5bdefc5daec8",
   "metadata": {},
   "outputs": [],
   "source": [
    "example"
   ]
  },
  {
   "cell_type": "code",
   "execution_count": null,
   "id": "6cb6d492-58fb-4503-88a6-b5d2cb7adcaa",
   "metadata": {},
   "outputs": [],
   "source": [
    "#misclassified = 0 if the label and prediction are same\n",
    "example.loc[example.Label != example.pred1, 'misclassified'] = 1\n",
    "example.loc[example.Label == example.pred1, 'misclassified'] = 0"
   ]
  },
  {
   "cell_type": "code",
   "execution_count": null,
   "id": "f3aeffff-b49a-4d0f-8052-4d8532a0d3ba",
   "metadata": {},
   "outputs": [],
   "source": [
    "#error calculation\n",
    "e1 = sum(example['misclassified'] * example['probR1'])"
   ]
  },
  {
   "cell_type": "code",
   "execution_count": null,
   "id": "60c39efd-4fcd-482a-a046-da0481567e73",
   "metadata": {},
   "outputs": [],
   "source": [
    "e1"
   ]
  },
  {
   "cell_type": "code",
   "execution_count": null,
   "id": "6ea366b0-ef32-4482-a068-bc1d8d9d756b",
   "metadata": {},
   "outputs": [],
   "source": [
    "#calculation of alpha (performance)\n",
    "alpha1 = 0.5*log((1-e1)/e1)"
   ]
  },
  {
   "cell_type": "code",
   "execution_count": null,
   "id": "ea114d23-4e20-4d59-8a2d-c6ea1d95a7ff",
   "metadata": {},
   "outputs": [],
   "source": [
    "#update weight\n",
    "new_weight = example['probR1']*np.exp(-1*alpha1*example['Label']*example['pred1'])"
   ]
  },
  {
   "cell_type": "code",
   "execution_count": null,
   "id": "0b6fb70e-9abf-45e5-b4b1-74977e0de288",
   "metadata": {},
   "outputs": [],
   "source": [
    "#normalized weight\n",
    "z = sum(new_weight)\n",
    "normalized_weight = new_weight/sum(new_weight)"
   ]
  },
  {
   "cell_type": "code",
   "execution_count": null,
   "id": "9b287656-7ee8-4fb4-9a66-97261a526bc0",
   "metadata": {},
   "outputs": [],
   "source": [
    "example['prob2'] = round(normalized_weight,4)"
   ]
  },
  {
   "cell_type": "code",
   "execution_count": null,
   "id": "8706993c-da54-4fe4-a30f-2b3ffebfd616",
   "metadata": {},
   "outputs": [],
   "source": [
    "example"
   ]
  },
  {
   "cell_type": "code",
   "execution_count": null,
   "id": "8c60f4c0-a936-4170-8d0d-b23ec0618cf8",
   "metadata": {},
   "outputs": [],
   "source": [
    "#round 2\n",
    "random.seed(20)\n",
    "example2 = example.sample(len(example), replace = True, weights = example['prob2'])\n",
    "example2 = example2.iloc[:,0:5]\n",
    "X_train = example2.iloc[0:len(iris),0:4]\n",
    "y_train = example2.iloc[0:len(iris),4]\n",
    "\n",
    "clf_gini = DecisionTreeClassifier(criterion = \"gini\", random_state = 100, max_depth=1)\n",
    "clf = clf_gini.fit(X_train, y_train)\n",
    "\n",
    "y_pred = clf_gini.predict(example.iloc[0:len(iris),0:4])\n",
    "#adding a column pred2 after the second round of boosting\n",
    "example['pred2'] = y_pred"
   ]
  },
  {
   "cell_type": "code",
   "execution_count": null,
   "id": "6943cef7-67cb-4f7d-9c55-c16f38063f74",
   "metadata": {},
   "outputs": [],
   "source": [
    "#plotting tree for round 2 boosting\n",
    "tree.plot_tree(clf)"
   ]
  },
  {
   "cell_type": "code",
   "execution_count": null,
   "id": "4e2ec4f8-d3c3-4965-9440-0061ffbf9438",
   "metadata": {},
   "outputs": [],
   "source": [
    "example"
   ]
  },
  {
   "cell_type": "code",
   "execution_count": null,
   "id": "6b106c43-aa7d-4c87-aa20-ce4b98ed762c",
   "metadata": {},
   "outputs": [],
   "source": [
    "#adding a field misclassified2\n",
    "example.loc[example.Label != example.pred2, 'misclassified2'] = 1\n",
    "example.loc[example.Label == example.pred2, 'misclassified2'] = 0"
   ]
  },
  {
   "cell_type": "code",
   "execution_count": null,
   "id": "0cc77027-d707-416e-8d12-a881e3617306",
   "metadata": {},
   "outputs": [],
   "source": [
    "# calculation of error\n",
    "e2 = sum(example['misclassified2'] * example['prob2'])\n",
    "e2"
   ]
  },
  {
   "cell_type": "code",
   "execution_count": null,
   "id": "51afe08e-9813-4c6d-95a3-411610cac481",
   "metadata": {},
   "outputs": [],
   "source": [
    "#calculation of alpha\n",
    "alpha2 = 0.5*log((1-e2)/e2)\n",
    "alpha2"
   ]
  },
  {
   "cell_type": "code",
   "execution_count": null,
   "id": "1cfb8581-74f5-403d-8655-de85d14654e0",
   "metadata": {},
   "outputs": [],
   "source": [
    "#update weight\n",
    "new_weight = example['prob2']*np.exp(-1*alpha2*example['Label']*example['pred2'])\n",
    "z = sum(new_weight)\n",
    "normalized_weight = new_weight/sum(new_weight)"
   ]
  },
  {
   "cell_type": "code",
   "execution_count": null,
   "id": "10ae7391-2d93-4eb6-b27e-534795d3a18c",
   "metadata": {},
   "outputs": [],
   "source": [
    "example['prob3'] = round(normalized_weight,4)"
   ]
  },
  {
   "cell_type": "code",
   "execution_count": null,
   "id": "0e5ed478-d877-4fc6-93f0-16a53ade3fd3",
   "metadata": {},
   "outputs": [],
   "source": [
    "example"
   ]
  },
  {
   "cell_type": "code",
   "execution_count": null,
   "id": "b3b3ca4b-e564-4dbd-b312-f90264afe0b3",
   "metadata": {},
   "outputs": [],
   "source": [
    "#round 3\n",
    "random.seed(30)\n",
    "example3 = example.sample(len(example), replace = True, weights = example['prob3'])\n",
    "example3 = example3.iloc[:,0:5]\n",
    "X_train = example3.iloc[0:len(iris),0:4]\n",
    "y_train = example3.iloc[0:len(iris),4]\n",
    "\n",
    "clf_gini = DecisionTreeClassifier(criterion = \"gini\", random_state = 100, max_depth=1)\n",
    "clf = clf_gini.fit(X_train, y_train)\n",
    "\n",
    "#adding a column pred3 after the third round of boosting\n",
    "y_pred = clf_gini.predict(example.iloc[0:len(iris),0:4])\n",
    "example['pred3'] = y_pred"
   ]
  },
  {
   "cell_type": "code",
   "execution_count": null,
   "id": "d1de626f-42e1-4c86-b8e2-23be835f5298",
   "metadata": {},
   "outputs": [],
   "source": [
    "#plotting tree for round 3 boosting\n",
    "tree.plot_tree(clf)"
   ]
  },
  {
   "cell_type": "code",
   "execution_count": null,
   "id": "fdfdd964-fd6a-4128-b92a-ef2603ca3de1",
   "metadata": {},
   "outputs": [],
   "source": [
    "#adding a field misclassified3\n",
    "example.loc[example.Label != example.pred3, 'misclassified3'] = 1\n",
    "example.loc[example.Label == example.pred3, 'misclassified3'] = 0"
   ]
  },
  {
   "cell_type": "code",
   "execution_count": null,
   "id": "ebfb4b94-1ca5-4efd-b2b4-fdc23322a55d",
   "metadata": {},
   "outputs": [],
   "source": [
    "#weighted error calculation\n",
    "e3 = sum(example['misclassified3'] * example['prob3']) #/len(example)\n",
    "e3"
   ]
  },
  {
   "cell_type": "code",
   "execution_count": null,
   "id": "df503a24-34a9-436e-b09d-6866ab70bb52",
   "metadata": {},
   "outputs": [],
   "source": [
    "#calculation of performance(alpha)\n",
    "alpha3 = 0.5*log((1-e3)/e3)"
   ]
  },
  {
   "cell_type": "code",
   "execution_count": null,
   "id": "df181551-c8b5-43c2-9a58-bd3397841207",
   "metadata": {},
   "outputs": [],
   "source": [
    "#update weight\n",
    "new_weight = example['prob3']*np.exp(-1*alpha3*example['Label']*example['pred3'])\n",
    "z = sum(new_weight)\n",
    "normalized_weight = new_weight/sum(new_weight)"
   ]
  },
  {
   "cell_type": "code",
   "execution_count": null,
   "id": "e605f373-cd84-41e1-9c5d-4c17eb21f0d7",
   "metadata": {},
   "outputs": [],
   "source": [
    "example['prob4'] = round(normalized_weight,4)"
   ]
  },
  {
   "cell_type": "code",
   "execution_count": null,
   "id": "dad74785-463f-4c2f-ab69-ef33b2834421",
   "metadata": {},
   "outputs": [],
   "source": [
    "example"
   ]
  },
  {
   "cell_type": "code",
   "execution_count": null,
   "id": "fd154e71-9334-44ea-bafb-16fca8145338",
   "metadata": {},
   "outputs": [],
   "source": [
    "#Round 4\n",
    "random.seed(40)\n",
    "example4 = example.sample(len(example), replace = True, weights = example['prob4'])\n",
    "example4 = example4.iloc[:,0:5]\n",
    "X_train = example4.iloc[0:len(iris),0:4]\n",
    "y_train = example4.iloc[0:len(iris),4]\n",
    "\n",
    "clf_gini = DecisionTreeClassifier(criterion = \"gini\", random_state = 100, max_depth=1)\n",
    "clf = clf_gini.fit(X_train, y_train)\n",
    "\n",
    "#adding a column pred4 after the fourth round of boosting\n",
    "y_pred = clf_gini.predict(example.iloc[0:len(iris),0:4])\n",
    "example['pred4'] = y_pred"
   ]
  },
  {
   "cell_type": "code",
   "execution_count": null,
   "id": "346f39d7-2645-47c1-897c-1f91b8c6a96c",
   "metadata": {},
   "outputs": [],
   "source": [
    "#plotting tree for round 4 boosting\n",
    "tree.plot_tree(clf)"
   ]
  },
  {
   "cell_type": "code",
   "execution_count": null,
   "id": "9acd5910-7cbf-4bca-b701-05773bdb010e",
   "metadata": {},
   "outputs": [],
   "source": [
    "#adding a field misclassified4\n",
    "example.loc[example.Label != example.pred4, 'misclassified4'] = 1\n",
    "example.loc[example.Label == example.pred4, 'misclassified4'] = 0"
   ]
  },
  {
   "cell_type": "code",
   "execution_count": null,
   "id": "b4184c14-d8df-4f6d-b5be-70a6cfd40e61",
   "metadata": {},
   "outputs": [],
   "source": [
    "#error calculation\n",
    "e4 = sum(example['misclassified4'] * example['prob4']) \n",
    "e4"
   ]
  },
  {
   "cell_type": "code",
   "execution_count": null,
   "id": "02dc515c-6c5a-4bd3-bc98-2705e5bd7d64",
   "metadata": {},
   "outputs": [],
   "source": [
    "# calculation of performance (alpha)\n",
    "alpha4 = 0.5*log((1-e4)/e4)"
   ]
  },
  {
   "cell_type": "code",
   "execution_count": null,
   "id": "154c3794-037c-480c-a207-4d2661ead0f2",
   "metadata": {},
   "outputs": [],
   "source": [
    "#printing the alpha value which is used in each round of boosting\n",
    "print(alpha1)\n",
    "print(alpha2)\n",
    "print(alpha3)\n",
    "print(alpha4)"
   ]
  },
  {
   "cell_type": "code",
   "execution_count": null,
   "id": "b2aac07a-962a-466f-a2a1-0df076147d52",
   "metadata": {},
   "outputs": [],
   "source": [
    "#final prediction\n",
    "t = alpha1 * example['pred1'] + alpha2 * example['pred2'] + alpha3 * example['pred3'] + alpha4 * example['pred4']"
   ]
  },
  {
   "cell_type": "code",
   "execution_count": null,
   "id": "df303179-7c4f-4abf-9004-6cdc657b3b47",
   "metadata": {},
   "outputs": [],
   "source": [
    "#sign of the final prediction\n",
    "np.sign(list(t))"
   ]
  },
  {
   "cell_type": "code",
   "execution_count": null,
   "id": "22c715a6-bef3-44e6-b9e1-cb54f38460a0",
   "metadata": {},
   "outputs": [],
   "source": [
    "example['final_pred'] = np.sign(list(t))"
   ]
  },
  {
   "cell_type": "code",
   "execution_count": null,
   "id": "8b4c5b72-5606-4e8b-898d-f423f1b59a9f",
   "metadata": {},
   "outputs": [],
   "source": [
    "example"
   ]
  },
  {
   "cell_type": "code",
   "execution_count": null,
   "id": "15e638cd-8285-44fa-b98b-6b43c90e58ca",
   "metadata": {},
   "outputs": [],
   "source": [
    "#Confusion matrix\n",
    "c=confusion_matrix(example['Label'], example['final_pred'])\n",
    "c"
   ]
  },
  {
   "cell_type": "code",
   "execution_count": null,
   "id": "3d1d44b4-65af-4ab5-8dc9-8a0e7d68b661",
   "metadata": {},
   "outputs": [],
   "source": [
    "#Overall Accuracy\n",
    "(c[0,0]+c[1,1])/np.sum(c)*100"
   ]
  },
  {
   "cell_type": "code",
   "execution_count": null,
   "id": "c9782892-d485-4eac-8958-88015c5922dc",
   "metadata": {},
   "outputs": [],
   "source": [
    "#Fitting the model using the adaboost classifier library"
   ]
  },
  {
   "cell_type": "code",
   "execution_count": null,
   "id": "9fd4069f-b28c-44f2-b1a5-da57fed478d3",
   "metadata": {},
   "outputs": [],
   "source": [
    "from sklearn.ensemble import AdaBoostClassifier"
   ]
  },
  {
   "cell_type": "code",
   "execution_count": null,
   "id": "b86266ac-7699-4b48-9040-d8f3f56b7f1e",
   "metadata": {},
   "outputs": [],
   "source": [
    "iris = pd.read_csv(\"iris.csv\")  \n",
    "iris = iris.drop('Unnamed: 0', axis=1)\n",
    "iris = iris[(iris['Species'] == 'versicolor') | (iris['Species'] == 'virginica')]"
   ]
  },
  {
   "cell_type": "code",
   "execution_count": null,
   "id": "a2831cda-e345-45c0-a321-5d43b2b7080f",
   "metadata": {},
   "outputs": [],
   "source": [
    "#X_train and Y_train split\n",
    "X_train = iris.iloc[0:len(iris),0:4]\n",
    "y_train = iris.iloc[0:len(iris),4]"
   ]
  },
  {
   "cell_type": "code",
   "execution_count": null,
   "id": "7dfd51f4-4d59-4f6a-a8b2-a38759901c03",
   "metadata": {},
   "outputs": [],
   "source": [
    "clf = AdaBoostClassifier(n_estimators=4, random_state=0)\n",
    "clf.fit(X_train, y_train)"
   ]
  },
  {
   "cell_type": "code",
   "execution_count": null,
   "id": "047434b4-0baa-4526-89ec-655870e09fb6",
   "metadata": {},
   "outputs": [],
   "source": [
    "clf.predict([[5.5, 2.5, 4.0, 1.3]])"
   ]
  },
  {
   "cell_type": "code",
   "execution_count": null,
   "id": "7e299174-6579-4f04-a8bc-971f691d8e96",
   "metadata": {},
   "outputs": [],
   "source": [
    "clf.score(X_train, y_train)"
   ]
  },
  {
   "cell_type": "code",
   "execution_count": null,
   "id": "13a3f89f-c163-4830-9034-cf0d41fcb3d4",
   "metadata": {},
   "outputs": [],
   "source": []
  }
 ],
 "metadata": {
  "kernelspec": {
   "display_name": "Python 3",
   "language": "python",
   "name": "python3"
  },
  "language_info": {
   "codemirror_mode": {
    "name": "ipython",
    "version": 3
   },
   "file_extension": ".py",
   "mimetype": "text/x-python",
   "name": "python",
   "nbconvert_exporter": "python",
   "pygments_lexer": "ipython3",
   "version": "3.8.8"
  }
 },
 "nbformat": 4,
 "nbformat_minor": 5
}
